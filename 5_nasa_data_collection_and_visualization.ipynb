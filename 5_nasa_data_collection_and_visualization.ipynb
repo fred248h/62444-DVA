{
 "cells": [
  {
   "attachments": {},
   "cell_type": "markdown",
   "metadata": {},
   "source": [
    "# Project 2：NASA Data Acquisation, Visualization, and Analysis"
   ]
  },
  {
   "cell_type": "code",
   "execution_count": 36,
   "metadata": {},
   "outputs": [],
   "source": [
    "# The code makes sure that once there is change in the 'src/' folder, the \n",
    "# change will be automatically reloaded in the notebook.\n",
    "%reload_ext autoreload\n",
    "%autoreload 2\n",
    "%aimport src\n",
    "\n",
    "from datetime import datetime, timedelta\n",
    "from getpass import getpass\n",
    "import pandas as pd\n",
    "import numpy as np\n",
    "import matplotlib.pyplot as plt\n",
    "import seaborn as sns\n",
    "import math\n",
    "import json\n",
    "import requests\n",
    "import time\n",
    "from scipy import stats\n",
    "\n",
    "# Load functions \n",
    "from nasa_functions import *"
   ]
  },
  {
   "cell_type": "markdown",
   "metadata": {},
   "source": []
  },
  {
   "attachments": {},
   "cell_type": "markdown",
   "metadata": {},
   "source": [
    "### Task 1: Understanding the NASA API and Data Collection\n",
    "\n",
    "- Register for a NASA API key and understand the different types of data that the API provides.\n",
    "- Run the Python script below to fetch data about **Near Earth Objects (NEOs)** from the NASA API for a years data.\n",
    "- Extract and understand the different pieces of data provided for each NEO."
   ]
  },
  {
   "cell_type": "code",
   "execution_count": 2,
   "metadata": {},
   "outputs": [],
   "source": [
    "# Get API key from user\n",
    "api_key = getpass()\n",
    "\n",
    "# API key (Frederik): 5moAl3aXJFGab03t4Rwyvnsb9UKRUSq5Tpu2aZYm\n",
    "# API key (Nicole): KrcOIAM7hOjCyEN016pr35qkBVunND4DUBuzUXTE\n",
    "\n",
    "\n",
    "# Set the start and end dates for the data you want to fetch\n",
    "start_date = datetime.strptime('2022-01-01', '%Y-%m-%d')\n",
    "end_date = start_date + timedelta(days=365)  # 1 year later\n",
    "\n",
    "\n",
    "# Load data from NASA. \n",
    "data = get_data(api_key, start_date, end_date)\n"
   ]
  },
  {
   "cell_type": "code",
   "execution_count": 96,
   "metadata": {},
   "outputs": [
    {
     "data": {
      "text/html": [
       "<div>\n",
       "<style scoped>\n",
       "    .dataframe tbody tr th:only-of-type {\n",
       "        vertical-align: middle;\n",
       "    }\n",
       "\n",
       "    .dataframe tbody tr th {\n",
       "        vertical-align: top;\n",
       "    }\n",
       "\n",
       "    .dataframe thead th {\n",
       "        text-align: right;\n",
       "    }\n",
       "</style>\n",
       "<table border=\"1\" class=\"dataframe\">\n",
       "  <thead>\n",
       "    <tr style=\"text-align: right;\">\n",
       "      <th></th>\n",
       "      <th>date</th>\n",
       "      <th>week</th>\n",
       "      <th>id</th>\n",
       "      <th>neo_reference_id</th>\n",
       "      <th>name</th>\n",
       "      <th>nasa_jpl_url</th>\n",
       "      <th>absolute_magnitude_h</th>\n",
       "      <th>kilometers estimated_diameter_min</th>\n",
       "      <th>kilometers estimated_diameter_max</th>\n",
       "      <th>meters estimated_diameter_min</th>\n",
       "      <th>...</th>\n",
       "      <th>epoch_date_close_approach</th>\n",
       "      <th>relative_velocity kilometers_per_second</th>\n",
       "      <th>relative_velocity kilometers_per_hour</th>\n",
       "      <th>relative_velocity miles_per_hour</th>\n",
       "      <th>miss_distance astronomical</th>\n",
       "      <th>miss_distance lunar</th>\n",
       "      <th>miss_distance kilometers</th>\n",
       "      <th>miss_distance miles</th>\n",
       "      <th>orbiting_body</th>\n",
       "      <th>is_sentry_object</th>\n",
       "    </tr>\n",
       "  </thead>\n",
       "  <tbody>\n",
       "    <tr>\n",
       "      <th>11</th>\n",
       "      <td>2022-01-01</td>\n",
       "      <td>0.0</td>\n",
       "      <td>2363505</td>\n",
       "      <td>2363505</td>\n",
       "      <td>363505 (2003 UC20)</td>\n",
       "      <td>http://ssd.jpl.nasa.gov/sbdb.cgi?sstr=2363505</td>\n",
       "      <td>18.52</td>\n",
       "      <td>0.525479</td>\n",
       "      <td>1.175006</td>\n",
       "      <td>525.478530</td>\n",
       "      <td>...</td>\n",
       "      <td>1.641000e+12</td>\n",
       "      <td>12.518531</td>\n",
       "      <td>45066.713121</td>\n",
       "      <td>28002.702939</td>\n",
       "      <td>0.157698</td>\n",
       "      <td>61.344390</td>\n",
       "      <td>2.359123e+07</td>\n",
       "      <td>1.465891e+07</td>\n",
       "      <td>Earth</td>\n",
       "      <td>False</td>\n",
       "    </tr>\n",
       "    <tr>\n",
       "      <th>12</th>\n",
       "      <td>2022-01-01</td>\n",
       "      <td>0.0</td>\n",
       "      <td>2376848</td>\n",
       "      <td>2376848</td>\n",
       "      <td>376848 (2001 RY47)</td>\n",
       "      <td>http://ssd.jpl.nasa.gov/sbdb.cgi?sstr=2376848</td>\n",
       "      <td>19.61</td>\n",
       "      <td>0.318094</td>\n",
       "      <td>0.711279</td>\n",
       "      <td>318.093633</td>\n",
       "      <td>...</td>\n",
       "      <td>1.641072e+12</td>\n",
       "      <td>17.701016</td>\n",
       "      <td>63723.656796</td>\n",
       "      <td>39595.402191</td>\n",
       "      <td>0.342086</td>\n",
       "      <td>133.071640</td>\n",
       "      <td>5.117541e+07</td>\n",
       "      <td>3.179892e+07</td>\n",
       "      <td>Earth</td>\n",
       "      <td>False</td>\n",
       "    </tr>\n",
       "    <tr>\n",
       "      <th>13</th>\n",
       "      <td>2022-01-01</td>\n",
       "      <td>0.0</td>\n",
       "      <td>2488490</td>\n",
       "      <td>2488490</td>\n",
       "      <td>488490 (2000 AF205)</td>\n",
       "      <td>http://ssd.jpl.nasa.gov/sbdb.cgi?sstr=2488490</td>\n",
       "      <td>21.90</td>\n",
       "      <td>0.110804</td>\n",
       "      <td>0.247765</td>\n",
       "      <td>110.803882</td>\n",
       "      <td>...</td>\n",
       "      <td>1.641052e+12</td>\n",
       "      <td>21.077399</td>\n",
       "      <td>75878.637808</td>\n",
       "      <td>47148.034698</td>\n",
       "      <td>0.407186</td>\n",
       "      <td>158.395382</td>\n",
       "      <td>6.091417e+07</td>\n",
       "      <td>3.785031e+07</td>\n",
       "      <td>Earth</td>\n",
       "      <td>False</td>\n",
       "    </tr>\n",
       "    <tr>\n",
       "      <th>14</th>\n",
       "      <td>2022-01-01</td>\n",
       "      <td>0.0</td>\n",
       "      <td>3388081</td>\n",
       "      <td>3388081</td>\n",
       "      <td>(2007 TL23)</td>\n",
       "      <td>http://ssd.jpl.nasa.gov/sbdb.cgi?sstr=3388081</td>\n",
       "      <td>21.48</td>\n",
       "      <td>0.134448</td>\n",
       "      <td>0.300635</td>\n",
       "      <td>134.448195</td>\n",
       "      <td>...</td>\n",
       "      <td>1.641059e+12</td>\n",
       "      <td>31.100974</td>\n",
       "      <td>111963.505363</td>\n",
       "      <td>69569.768096</td>\n",
       "      <td>0.197682</td>\n",
       "      <td>76.898348</td>\n",
       "      <td>2.957283e+07</td>\n",
       "      <td>1.837570e+07</td>\n",
       "      <td>Earth</td>\n",
       "      <td>False</td>\n",
       "    </tr>\n",
       "    <tr>\n",
       "      <th>15</th>\n",
       "      <td>2022-01-01</td>\n",
       "      <td>0.0</td>\n",
       "      <td>3592308</td>\n",
       "      <td>3592308</td>\n",
       "      <td>(2012 AP10)</td>\n",
       "      <td>http://ssd.jpl.nasa.gov/sbdb.cgi?sstr=3592308</td>\n",
       "      <td>26.50</td>\n",
       "      <td>0.013322</td>\n",
       "      <td>0.029788</td>\n",
       "      <td>13.321557</td>\n",
       "      <td>...</td>\n",
       "      <td>1.641063e+12</td>\n",
       "      <td>15.995934</td>\n",
       "      <td>57585.362913</td>\n",
       "      <td>35781.305083</td>\n",
       "      <td>0.397118</td>\n",
       "      <td>154.478962</td>\n",
       "      <td>5.940803e+07</td>\n",
       "      <td>3.691444e+07</td>\n",
       "      <td>Earth</td>\n",
       "      <td>False</td>\n",
       "    </tr>\n",
       "  </tbody>\n",
       "</table>\n",
       "<p>5 rows × 28 columns</p>\n",
       "</div>"
      ],
      "text/plain": [
       "          date  week       id  neo_reference_id                 name  \\\n",
       "11  2022-01-01   0.0  2363505           2363505   363505 (2003 UC20)   \n",
       "12  2022-01-01   0.0  2376848           2376848   376848 (2001 RY47)   \n",
       "13  2022-01-01   0.0  2488490           2488490  488490 (2000 AF205)   \n",
       "14  2022-01-01   0.0  3388081           3388081          (2007 TL23)   \n",
       "15  2022-01-01   0.0  3592308           3592308          (2012 AP10)   \n",
       "\n",
       "                                     nasa_jpl_url  absolute_magnitude_h  \\\n",
       "11  http://ssd.jpl.nasa.gov/sbdb.cgi?sstr=2363505                 18.52   \n",
       "12  http://ssd.jpl.nasa.gov/sbdb.cgi?sstr=2376848                 19.61   \n",
       "13  http://ssd.jpl.nasa.gov/sbdb.cgi?sstr=2488490                 21.90   \n",
       "14  http://ssd.jpl.nasa.gov/sbdb.cgi?sstr=3388081                 21.48   \n",
       "15  http://ssd.jpl.nasa.gov/sbdb.cgi?sstr=3592308                 26.50   \n",
       "\n",
       "    kilometers estimated_diameter_min  kilometers estimated_diameter_max  \\\n",
       "11                           0.525479                           1.175006   \n",
       "12                           0.318094                           0.711279   \n",
       "13                           0.110804                           0.247765   \n",
       "14                           0.134448                           0.300635   \n",
       "15                           0.013322                           0.029788   \n",
       "\n",
       "    meters estimated_diameter_min  ...  epoch_date_close_approach  \\\n",
       "11                     525.478530  ...               1.641000e+12   \n",
       "12                     318.093633  ...               1.641072e+12   \n",
       "13                     110.803882  ...               1.641052e+12   \n",
       "14                     134.448195  ...               1.641059e+12   \n",
       "15                      13.321557  ...               1.641063e+12   \n",
       "\n",
       "    relative_velocity kilometers_per_second  \\\n",
       "11                                12.518531   \n",
       "12                                17.701016   \n",
       "13                                21.077399   \n",
       "14                                31.100974   \n",
       "15                                15.995934   \n",
       "\n",
       "    relative_velocity kilometers_per_hour  relative_velocity miles_per_hour  \\\n",
       "11                           45066.713121                      28002.702939   \n",
       "12                           63723.656796                      39595.402191   \n",
       "13                           75878.637808                      47148.034698   \n",
       "14                          111963.505363                      69569.768096   \n",
       "15                           57585.362913                      35781.305083   \n",
       "\n",
       "    miss_distance astronomical  miss_distance lunar miss_distance kilometers  \\\n",
       "11                    0.157698            61.344390             2.359123e+07   \n",
       "12                    0.342086           133.071640             5.117541e+07   \n",
       "13                    0.407186           158.395382             6.091417e+07   \n",
       "14                    0.197682            76.898348             2.957283e+07   \n",
       "15                    0.397118           154.478962             5.940803e+07   \n",
       "\n",
       "   miss_distance miles  orbiting_body  is_sentry_object  \n",
       "11        1.465891e+07          Earth             False  \n",
       "12        3.179892e+07          Earth             False  \n",
       "13        3.785031e+07          Earth             False  \n",
       "14        1.837570e+07          Earth             False  \n",
       "15        3.691444e+07          Earth             False  \n",
       "\n",
       "[5 rows x 28 columns]"
      ]
     },
     "execution_count": 96,
     "metadata": {},
     "output_type": "execute_result"
    }
   ],
   "source": [
    "# Check the date there is contained in data\n",
    "dates_contained_in_data = []\n",
    "for d in data: dates_contained_in_data += list(d['near_earth_objects'].keys())\n",
    "\n",
    "# Sort the dates so 2022-01-01 is first \n",
    "dates_contained_in_data = sorted(dates_contained_in_data)\n",
    "\n",
    "# New empty dataframe\n",
    "df_data = pd.DataFrame()\n",
    "\n",
    "#Load the data from the json file to a pandas dataframe\n",
    "json_to_dataframe(df_data, data, dates_contained_in_data)\n",
    "\n",
    "df_data = df_data.apply(pd.to_numeric, errors='ignore')\n",
    "\n",
    "# datastructure of the dataframe\n",
    "df_data.head(5)    "
   ]
  },
  {
   "attachments": {},
   "cell_type": "markdown",
   "metadata": {},
   "source": [
    "For the remaining tasks, you have to organize the data as pd.DataFrame so as to suit the specific need in each task. This part may require a considerably amount of efforts, which is normal in data science and analytics works."
   ]
  },
  {
   "attachments": {},
   "cell_type": "markdown",
   "metadata": {},
   "source": [
    "### Task 2: Data Analysis\n",
    "\n",
    "- Calculate the average size of the NEOs for each day.\n",
    "- Determine the proportion of NEOs that are potentially hazardous.\n",
    "- Find the NEO with the closest approach distance for each day.\n",
    "- Use statistical methods to analyze the data. For example, calculate the mean, median, mode, and standard deviation of the NEO sizes. Determine if the size of a NEO is correlated with whether it is potentially hazardous."
   ]
  },
  {
   "cell_type": "code",
   "execution_count": 97,
   "metadata": {},
   "outputs": [
    {
     "data": {
      "image/png": "[encoded data removed]",
      "text/plain": [
       "<Figure size 432x288 with 1 Axes>"
      ]
     },
     "metadata": {},
     "output_type": "display_data"
    }
   ],
   "source": [
    "#### Average size of the NEOs for each day ####\n",
    "\n",
    "# Size is the mean of estimated_diameter_min and estimated_diameter_max\n",
    "df_data.loc[:, 'kilometers estimated_diameter_mean']=(df_data['kilometers estimated_diameter_min']+df_data['kilometers estimated_diameter_max'])/2\n",
    "df_NEO_size_day_mean = df_data.groupby('date')['kilometers estimated_diameter_mean'].mean()\n",
    "\n",
    "plt.plot(df_NEO_size_day_mean.index, df_NEO_size_day_mean)\n",
    "plt.xticks(rotation=30, ha='right', ticks=np.arange(0,418,28))\n",
    "plt.xlabel('Date')\n",
    "plt.ylabel('kilometers estimated diameter mean ')\n",
    "plt.title('Average size of the NEOs for each day')\n",
    "plt.show()"
   ]
  },
  {
   "cell_type": "markdown",
   "metadata": {},
   "source": [
    "The average size of the NEOs is bigger over the sommer. "
   ]
  },
  {
   "cell_type": "code",
   "execution_count": 92,
   "metadata": {},
   "outputs": [
    {
     "name": "stdout",
     "output_type": "stream",
     "text": [
      "True counts:  507\n",
      "False counts:  7444\n",
      "procent true:  6.3765564079989945\n"
     ]
    }
   ],
   "source": [
    "#### Proportion of NEOs that are potentially hazardous ####\n",
    "\n",
    "# Get the status of the NEOs for each day\n",
    "hazardous = list(df_data['is_potentially_hazardous_asteroid'])\n",
    "\n",
    "# Count true and false values\n",
    "true_count = hazardous.count(True)\n",
    "false_count = hazardous.count(False)\n",
    "\n",
    "# calculate the proportion\n",
    "print('True counts: ',true_count)\n",
    "print('False counts: ',false_count)\n",
    "print('procent true: ',(true_count/(true_count+false_count))*100)\n",
    "\n",
    "\n"
   ]
  },
  {
   "cell_type": "code",
   "execution_count": 123,
   "metadata": {},
   "outputs": [
    {
     "data": {
      "image/png": "[encoded data removed]",
      "text/plain": [
       "<Figure size 432x288 with 1 Axes>"
      ]
     },
     "metadata": {},
     "output_type": "display_data"
    }
   ],
   "source": [
    "\n",
    "#### NEO with the closest approach distance for each day ####\n",
    "df_dis_lunar_min = df_data.groupby('date')['miss_distance lunar'].min().astype('float')\n",
    "\n",
    "plt.plot(df_dis_lunar_min.index, df_dis_lunar_min)\n",
    "plt.xticks(rotation=30, ha='right', ticks=np.arange(0,418,28))\n",
    "plt.xlabel('Date')\n",
    "plt.ylabel('Closest approach distance (lunar)')\n",
    "plt.show()\n",
    "\n"
   ]
  },
  {
   "cell_type": "markdown",
   "metadata": {},
   "source": [
    "It seems that the miss distance is bigger over the sommer."
   ]
  },
  {
   "cell_type": "code",
   "execution_count": 7,
   "metadata": {},
   "outputs": [
    {
     "data": {
      "text/html": [
       "<div>\n",
       "<style scoped>\n",
       "    .dataframe tbody tr th:only-of-type {\n",
       "        vertical-align: middle;\n",
       "    }\n",
       "\n",
       "    .dataframe tbody tr th {\n",
       "        vertical-align: top;\n",
       "    }\n",
       "\n",
       "    .dataframe thead th {\n",
       "        text-align: right;\n",
       "    }\n",
       "</style>\n",
       "<table border=\"1\" class=\"dataframe\">\n",
       "  <thead>\n",
       "    <tr style=\"text-align: right;\">\n",
       "      <th></th>\n",
       "      <th>week</th>\n",
       "      <th>absolute_magnitude_h</th>\n",
       "      <th>kilometers estimated_diameter_min</th>\n",
       "      <th>kilometers estimated_diameter_max</th>\n",
       "      <th>meters estimated_diameter_min</th>\n",
       "      <th>meters estimated_diameter_max</th>\n",
       "      <th>miles estimated_diameter_min</th>\n",
       "      <th>miles estimated_diameter_max</th>\n",
       "      <th>feet estimated_diameter_min</th>\n",
       "      <th>feet estimated_diameter_max</th>\n",
       "      <th>epoch_date_close_approach</th>\n",
       "      <th>kilometers estimated_diameter_mean</th>\n",
       "    </tr>\n",
       "  </thead>\n",
       "  <tbody>\n",
       "    <tr>\n",
       "      <th>count</th>\n",
       "      <td>7951.000000</td>\n",
       "      <td>7951.000000</td>\n",
       "      <td>7951.000000</td>\n",
       "      <td>7951.000000</td>\n",
       "      <td>7951.000000</td>\n",
       "      <td>7951.000000</td>\n",
       "      <td>7951.000000</td>\n",
       "      <td>7951.000000</td>\n",
       "      <td>7951.000000</td>\n",
       "      <td>7951.000000</td>\n",
       "      <td>7.951000e+03</td>\n",
       "      <td>7951.000000</td>\n",
       "    </tr>\n",
       "    <tr>\n",
       "      <th>mean</th>\n",
       "      <td>26.500440</td>\n",
       "      <td>24.157607</td>\n",
       "      <td>0.092983</td>\n",
       "      <td>0.207916</td>\n",
       "      <td>92.982919</td>\n",
       "      <td>207.916127</td>\n",
       "      <td>0.057777</td>\n",
       "      <td>0.129193</td>\n",
       "      <td>305.062079</td>\n",
       "      <td>682.139547</td>\n",
       "      <td>1.657368e+12</td>\n",
       "      <td>0.150450</td>\n",
       "    </tr>\n",
       "    <tr>\n",
       "      <th>std</th>\n",
       "      <td>15.342266</td>\n",
       "      <td>2.731514</td>\n",
       "      <td>0.182580</td>\n",
       "      <td>0.408262</td>\n",
       "      <td>182.580165</td>\n",
       "      <td>408.261660</td>\n",
       "      <td>0.113450</td>\n",
       "      <td>0.253682</td>\n",
       "      <td>599.016308</td>\n",
       "      <td>1339.441183</td>\n",
       "      <td>9.280005e+09</td>\n",
       "      <td>0.295421</td>\n",
       "    </tr>\n",
       "    <tr>\n",
       "      <th>min</th>\n",
       "      <td>0.000000</td>\n",
       "      <td>14.680000</td>\n",
       "      <td>0.000683</td>\n",
       "      <td>0.001528</td>\n",
       "      <td>0.683211</td>\n",
       "      <td>1.527707</td>\n",
       "      <td>0.000425</td>\n",
       "      <td>0.000949</td>\n",
       "      <td>2.241507</td>\n",
       "      <td>5.012161</td>\n",
       "      <td>1.641000e+12</td>\n",
       "      <td>0.001105</td>\n",
       "    </tr>\n",
       "    <tr>\n",
       "      <th>25%</th>\n",
       "      <td>13.000000</td>\n",
       "      <td>22.300000</td>\n",
       "      <td>0.016016</td>\n",
       "      <td>0.035813</td>\n",
       "      <td>16.016034</td>\n",
       "      <td>35.812940</td>\n",
       "      <td>0.009952</td>\n",
       "      <td>0.022253</td>\n",
       "      <td>52.546044</td>\n",
       "      <td>117.496527</td>\n",
       "      <td>1.648916e+12</td>\n",
       "      <td>0.025914</td>\n",
       "    </tr>\n",
       "    <tr>\n",
       "      <th>50%</th>\n",
       "      <td>28.000000</td>\n",
       "      <td>24.450000</td>\n",
       "      <td>0.034242</td>\n",
       "      <td>0.076567</td>\n",
       "      <td>34.241673</td>\n",
       "      <td>76.566709</td>\n",
       "      <td>0.021277</td>\n",
       "      <td>0.047576</td>\n",
       "      <td>112.341451</td>\n",
       "      <td>251.203121</td>\n",
       "      <td>1.658022e+12</td>\n",
       "      <td>0.055404</td>\n",
       "    </tr>\n",
       "    <tr>\n",
       "      <th>75%</th>\n",
       "      <td>40.000000</td>\n",
       "      <td>26.100000</td>\n",
       "      <td>0.092163</td>\n",
       "      <td>0.206082</td>\n",
       "      <td>92.162655</td>\n",
       "      <td>206.081961</td>\n",
       "      <td>0.057267</td>\n",
       "      <td>0.128053</td>\n",
       "      <td>302.370925</td>\n",
       "      <td>676.121942</td>\n",
       "      <td>1.665740e+12</td>\n",
       "      <td>0.149122</td>\n",
       "    </tr>\n",
       "    <tr>\n",
       "      <th>max</th>\n",
       "      <td>52.000000</td>\n",
       "      <td>32.950000</td>\n",
       "      <td>3.080030</td>\n",
       "      <td>6.887157</td>\n",
       "      <td>3080.030213</td>\n",
       "      <td>6887.156928</td>\n",
       "      <td>1.913841</td>\n",
       "      <td>4.279480</td>\n",
       "      <td>10105.086323</td>\n",
       "      <td>22595.659937</td>\n",
       "      <td>1.672615e+12</td>\n",
       "      <td>4.983594</td>\n",
       "    </tr>\n",
       "  </tbody>\n",
       "</table>\n",
       "</div>"
      ],
      "text/plain": [
       "              week  absolute_magnitude_h  kilometers estimated_diameter_min  \\\n",
       "count  7951.000000           7951.000000                        7951.000000   \n",
       "mean     26.500440             24.157607                           0.092983   \n",
       "std      15.342266              2.731514                           0.182580   \n",
       "min       0.000000             14.680000                           0.000683   \n",
       "25%      13.000000             22.300000                           0.016016   \n",
       "50%      28.000000             24.450000                           0.034242   \n",
       "75%      40.000000             26.100000                           0.092163   \n",
       "max      52.000000             32.950000                           3.080030   \n",
       "\n",
       "       kilometers estimated_diameter_max  meters estimated_diameter_min  \\\n",
       "count                        7951.000000                    7951.000000   \n",
       "mean                            0.207916                      92.982919   \n",
       "std                             0.408262                     182.580165   \n",
       "min                             0.001528                       0.683211   \n",
       "25%                             0.035813                      16.016034   \n",
       "50%                             0.076567                      34.241673   \n",
       "75%                             0.206082                      92.162655   \n",
       "max                             6.887157                    3080.030213   \n",
       "\n",
       "       meters estimated_diameter_max  miles estimated_diameter_min  \\\n",
       "count                    7951.000000                   7951.000000   \n",
       "mean                      207.916127                      0.057777   \n",
       "std                       408.261660                      0.113450   \n",
       "min                         1.527707                      0.000425   \n",
       "25%                        35.812940                      0.009952   \n",
       "50%                        76.566709                      0.021277   \n",
       "75%                       206.081961                      0.057267   \n",
       "max                      6887.156928                      1.913841   \n",
       "\n",
       "       miles estimated_diameter_max  feet estimated_diameter_min  \\\n",
       "count                   7951.000000                  7951.000000   \n",
       "mean                       0.129193                   305.062079   \n",
       "std                        0.253682                   599.016308   \n",
       "min                        0.000949                     2.241507   \n",
       "25%                        0.022253                    52.546044   \n",
       "50%                        0.047576                   112.341451   \n",
       "75%                        0.128053                   302.370925   \n",
       "max                        4.279480                 10105.086323   \n",
       "\n",
       "       feet estimated_diameter_max  epoch_date_close_approach  \\\n",
       "count                  7951.000000               7.951000e+03   \n",
       "mean                    682.139547               1.657368e+12   \n",
       "std                    1339.441183               9.280005e+09   \n",
       "min                       5.012161               1.641000e+12   \n",
       "25%                     117.496527               1.648916e+12   \n",
       "50%                     251.203121               1.658022e+12   \n",
       "75%                     676.121942               1.665740e+12   \n",
       "max                   22595.659937               1.672615e+12   \n",
       "\n",
       "       kilometers estimated_diameter_mean  \n",
       "count                         7951.000000  \n",
       "mean                             0.150450  \n",
       "std                              0.295421  \n",
       "min                              0.001105  \n",
       "25%                              0.025914  \n",
       "50%                              0.055404  \n",
       "75%                              0.149122  \n",
       "max                              4.983594  "
      ]
     },
     "execution_count": 7,
     "metadata": {},
     "output_type": "execute_result"
    }
   ],
   "source": [
    "#Descriptive statistics\n",
    "df_data.describe()"
   ]
  },
  {
   "cell_type": "code",
   "execution_count": 107,
   "metadata": {},
   "outputs": [
    {
     "data": {
      "text/plain": [
       "is_potentially_hazardous_asteroid\n",
       "False    0.130653\n",
       "True     0.441109\n",
       "Name: kilometers estimated_diameter_mean, dtype: float64"
      ]
     },
     "execution_count": 107,
     "metadata": {},
     "output_type": "execute_result"
    }
   ],
   "source": [
    "df_data.groupby('is_potentially_hazardous_asteroid')['kilometers estimated_diameter_mean'].mean()"
   ]
  },
  {
   "cell_type": "code",
   "execution_count": 147,
   "metadata": {},
   "outputs": [
    {
     "data": {
      "text/plain": [
       "is_potentially_hazardous_asteroid\n",
       "False    0.077105\n",
       "True     0.146607\n",
       "Name: kilometers estimated_diameter_mean, dtype: float64"
      ]
     },
     "execution_count": 147,
     "metadata": {},
     "output_type": "execute_result"
    }
   ],
   "source": [
    "df_data.groupby('is_potentially_hazardous_asteroid')['kilometers estimated_diameter_mean'].var()"
   ]
  },
  {
   "cell_type": "markdown",
   "metadata": {},
   "source": [
    "The mean size of the hazardous asteroid is bigger than the non-hazardous NEOs."
   ]
  },
  {
   "cell_type": "code",
   "execution_count": 149,
   "metadata": {},
   "outputs": [
    {
     "data": {
      "text/html": [
       "<div>\n",
       "<style scoped>\n",
       "    .dataframe tbody tr th:only-of-type {\n",
       "        vertical-align: middle;\n",
       "    }\n",
       "\n",
       "    .dataframe tbody tr th {\n",
       "        vertical-align: top;\n",
       "    }\n",
       "\n",
       "    .dataframe thead th {\n",
       "        text-align: right;\n",
       "    }\n",
       "</style>\n",
       "<table border=\"1\" class=\"dataframe\">\n",
       "  <thead>\n",
       "    <tr style=\"text-align: right;\">\n",
       "      <th></th>\n",
       "      <th>date</th>\n",
       "      <th>week</th>\n",
       "      <th>id</th>\n",
       "      <th>neo_reference_id</th>\n",
       "      <th>name</th>\n",
       "      <th>nasa_jpl_url</th>\n",
       "      <th>absolute_magnitude_h</th>\n",
       "      <th>kilometers estimated_diameter_min</th>\n",
       "      <th>kilometers estimated_diameter_max</th>\n",
       "      <th>meters estimated_diameter_min</th>\n",
       "      <th>...</th>\n",
       "      <th>relative_velocity kilometers_per_second</th>\n",
       "      <th>relative_velocity kilometers_per_hour</th>\n",
       "      <th>relative_velocity miles_per_hour</th>\n",
       "      <th>miss_distance astronomical</th>\n",
       "      <th>miss_distance lunar</th>\n",
       "      <th>miss_distance kilometers</th>\n",
       "      <th>miss_distance miles</th>\n",
       "      <th>orbiting_body</th>\n",
       "      <th>is_sentry_object</th>\n",
       "      <th>kilometers estimated_diameter_mean</th>\n",
       "    </tr>\n",
       "  </thead>\n",
       "  <tbody>\n",
       "    <tr>\n",
       "      <th>11</th>\n",
       "      <td>2022-01-01</td>\n",
       "      <td>0.0</td>\n",
       "      <td>2363505</td>\n",
       "      <td>2363505</td>\n",
       "      <td>363505 (2003 UC20)</td>\n",
       "      <td>http://ssd.jpl.nasa.gov/sbdb.cgi?sstr=2363505</td>\n",
       "      <td>18.52</td>\n",
       "      <td>0.525479</td>\n",
       "      <td>1.175006</td>\n",
       "      <td>525.478530</td>\n",
       "      <td>...</td>\n",
       "      <td>12.518531</td>\n",
       "      <td>45066.713121</td>\n",
       "      <td>28002.702939</td>\n",
       "      <td>0.157698</td>\n",
       "      <td>61.344390</td>\n",
       "      <td>2.359123e+07</td>\n",
       "      <td>1.465891e+07</td>\n",
       "      <td>Earth</td>\n",
       "      <td>False</td>\n",
       "      <td>0.850242</td>\n",
       "    </tr>\n",
       "    <tr>\n",
       "      <th>12</th>\n",
       "      <td>2022-01-01</td>\n",
       "      <td>0.0</td>\n",
       "      <td>2376848</td>\n",
       "      <td>2376848</td>\n",
       "      <td>376848 (2001 RY47)</td>\n",
       "      <td>http://ssd.jpl.nasa.gov/sbdb.cgi?sstr=2376848</td>\n",
       "      <td>19.61</td>\n",
       "      <td>0.318094</td>\n",
       "      <td>0.711279</td>\n",
       "      <td>318.093633</td>\n",
       "      <td>...</td>\n",
       "      <td>17.701016</td>\n",
       "      <td>63723.656796</td>\n",
       "      <td>39595.402191</td>\n",
       "      <td>0.342086</td>\n",
       "      <td>133.071640</td>\n",
       "      <td>5.117541e+07</td>\n",
       "      <td>3.179892e+07</td>\n",
       "      <td>Earth</td>\n",
       "      <td>False</td>\n",
       "      <td>0.514686</td>\n",
       "    </tr>\n",
       "    <tr>\n",
       "      <th>13</th>\n",
       "      <td>2022-01-01</td>\n",
       "      <td>0.0</td>\n",
       "      <td>2488490</td>\n",
       "      <td>2488490</td>\n",
       "      <td>488490 (2000 AF205)</td>\n",
       "      <td>http://ssd.jpl.nasa.gov/sbdb.cgi?sstr=2488490</td>\n",
       "      <td>21.90</td>\n",
       "      <td>0.110804</td>\n",
       "      <td>0.247765</td>\n",
       "      <td>110.803882</td>\n",
       "      <td>...</td>\n",
       "      <td>21.077399</td>\n",
       "      <td>75878.637808</td>\n",
       "      <td>47148.034698</td>\n",
       "      <td>0.407186</td>\n",
       "      <td>158.395382</td>\n",
       "      <td>6.091417e+07</td>\n",
       "      <td>3.785031e+07</td>\n",
       "      <td>Earth</td>\n",
       "      <td>False</td>\n",
       "      <td>0.179284</td>\n",
       "    </tr>\n",
       "    <tr>\n",
       "      <th>14</th>\n",
       "      <td>2022-01-01</td>\n",
       "      <td>0.0</td>\n",
       "      <td>3388081</td>\n",
       "      <td>3388081</td>\n",
       "      <td>(2007 TL23)</td>\n",
       "      <td>http://ssd.jpl.nasa.gov/sbdb.cgi?sstr=3388081</td>\n",
       "      <td>21.48</td>\n",
       "      <td>0.134448</td>\n",
       "      <td>0.300635</td>\n",
       "      <td>134.448195</td>\n",
       "      <td>...</td>\n",
       "      <td>31.100974</td>\n",
       "      <td>111963.505363</td>\n",
       "      <td>69569.768096</td>\n",
       "      <td>0.197682</td>\n",
       "      <td>76.898348</td>\n",
       "      <td>2.957283e+07</td>\n",
       "      <td>1.837570e+07</td>\n",
       "      <td>Earth</td>\n",
       "      <td>False</td>\n",
       "      <td>0.217542</td>\n",
       "    </tr>\n",
       "    <tr>\n",
       "      <th>15</th>\n",
       "      <td>2022-01-01</td>\n",
       "      <td>0.0</td>\n",
       "      <td>3592308</td>\n",
       "      <td>3592308</td>\n",
       "      <td>(2012 AP10)</td>\n",
       "      <td>http://ssd.jpl.nasa.gov/sbdb.cgi?sstr=3592308</td>\n",
       "      <td>26.50</td>\n",
       "      <td>0.013322</td>\n",
       "      <td>0.029788</td>\n",
       "      <td>13.321557</td>\n",
       "      <td>...</td>\n",
       "      <td>15.995934</td>\n",
       "      <td>57585.362913</td>\n",
       "      <td>35781.305083</td>\n",
       "      <td>0.397118</td>\n",
       "      <td>154.478962</td>\n",
       "      <td>5.940803e+07</td>\n",
       "      <td>3.691444e+07</td>\n",
       "      <td>Earth</td>\n",
       "      <td>False</td>\n",
       "      <td>0.021555</td>\n",
       "    </tr>\n",
       "    <tr>\n",
       "      <th>16</th>\n",
       "      <td>2022-01-01</td>\n",
       "      <td>0.0</td>\n",
       "      <td>3744561</td>\n",
       "      <td>3744561</td>\n",
       "      <td>(2016 CN248)</td>\n",
       "      <td>http://ssd.jpl.nasa.gov/sbdb.cgi?sstr=3744561</td>\n",
       "      <td>27.30</td>\n",
       "      <td>0.009216</td>\n",
       "      <td>0.020608</td>\n",
       "      <td>9.216265</td>\n",
       "      <td>...</td>\n",
       "      <td>10.698308</td>\n",
       "      <td>38513.908427</td>\n",
       "      <td>23931.044934</td>\n",
       "      <td>0.406688</td>\n",
       "      <td>158.201469</td>\n",
       "      <td>6.083960e+07</td>\n",
       "      <td>3.780397e+07</td>\n",
       "      <td>Earth</td>\n",
       "      <td>False</td>\n",
       "      <td>0.014912</td>\n",
       "    </tr>\n",
       "    <tr>\n",
       "      <th>17</th>\n",
       "      <td>2022-01-01</td>\n",
       "      <td>0.0</td>\n",
       "      <td>3771592</td>\n",
       "      <td>3771592</td>\n",
       "      <td>(2017 DA120)</td>\n",
       "      <td>http://ssd.jpl.nasa.gov/sbdb.cgi?sstr=3771592</td>\n",
       "      <td>19.59</td>\n",
       "      <td>0.321037</td>\n",
       "      <td>0.717860</td>\n",
       "      <td>321.036917</td>\n",
       "      <td>...</td>\n",
       "      <td>18.578883</td>\n",
       "      <td>66883.978046</td>\n",
       "      <td>41559.102914</td>\n",
       "      <td>0.470055</td>\n",
       "      <td>182.851256</td>\n",
       "      <td>7.031917e+07</td>\n",
       "      <td>4.369431e+07</td>\n",
       "      <td>Earth</td>\n",
       "      <td>False</td>\n",
       "      <td>0.519449</td>\n",
       "    </tr>\n",
       "    <tr>\n",
       "      <th>18</th>\n",
       "      <td>2022-01-01</td>\n",
       "      <td>0.0</td>\n",
       "      <td>3775153</td>\n",
       "      <td>3775153</td>\n",
       "      <td>(2017 KU34)</td>\n",
       "      <td>http://ssd.jpl.nasa.gov/sbdb.cgi?sstr=3775153</td>\n",
       "      <td>23.60</td>\n",
       "      <td>0.050647</td>\n",
       "      <td>0.113250</td>\n",
       "      <td>50.647146</td>\n",
       "      <td>...</td>\n",
       "      <td>10.146090</td>\n",
       "      <td>36525.923514</td>\n",
       "      <td>22695.788419</td>\n",
       "      <td>0.183371</td>\n",
       "      <td>71.331354</td>\n",
       "      <td>2.743192e+07</td>\n",
       "      <td>1.704541e+07</td>\n",
       "      <td>Earth</td>\n",
       "      <td>False</td>\n",
       "      <td>0.081949</td>\n",
       "    </tr>\n",
       "    <tr>\n",
       "      <th>455</th>\n",
       "      <td>2022-01-04</td>\n",
       "      <td>0.0</td>\n",
       "      <td>3840701</td>\n",
       "      <td>3840701</td>\n",
       "      <td>(2019 FZ)</td>\n",
       "      <td>http://ssd.jpl.nasa.gov/sbdb.cgi?sstr=3840701</td>\n",
       "      <td>21.36</td>\n",
       "      <td>0.142087</td>\n",
       "      <td>0.317717</td>\n",
       "      <td>142.087207</td>\n",
       "      <td>...</td>\n",
       "      <td>22.792098</td>\n",
       "      <td>82051.552784</td>\n",
       "      <td>50983.644006</td>\n",
       "      <td>0.460267</td>\n",
       "      <td>179.043808</td>\n",
       "      <td>6.885494e+07</td>\n",
       "      <td>4.278448e+07</td>\n",
       "      <td>Earth</td>\n",
       "      <td>False</td>\n",
       "      <td>0.229902</td>\n",
       "    </tr>\n",
       "    <tr>\n",
       "      <th>560</th>\n",
       "      <td>2022-01-05</td>\n",
       "      <td>0.0</td>\n",
       "      <td>2352102</td>\n",
       "      <td>2352102</td>\n",
       "      <td>352102 (2007 AG12)</td>\n",
       "      <td>http://ssd.jpl.nasa.gov/sbdb.cgi?sstr=2352102</td>\n",
       "      <td>19.40</td>\n",
       "      <td>0.350393</td>\n",
       "      <td>0.783502</td>\n",
       "      <td>350.392641</td>\n",
       "      <td>...</td>\n",
       "      <td>23.043492</td>\n",
       "      <td>82956.569418</td>\n",
       "      <td>51545.986148</td>\n",
       "      <td>0.408571</td>\n",
       "      <td>158.933968</td>\n",
       "      <td>6.112129e+07</td>\n",
       "      <td>3.797901e+07</td>\n",
       "      <td>Earth</td>\n",
       "      <td>False</td>\n",
       "      <td>0.566947</td>\n",
       "    </tr>\n",
       "  </tbody>\n",
       "</table>\n",
       "<p>10 rows × 29 columns</p>\n",
       "</div>"
      ],
      "text/plain": [
       "           date  week       id  neo_reference_id                 name  \\\n",
       "11   2022-01-01   0.0  2363505           2363505   363505 (2003 UC20)   \n",
       "12   2022-01-01   0.0  2376848           2376848   376848 (2001 RY47)   \n",
       "13   2022-01-01   0.0  2488490           2488490  488490 (2000 AF205)   \n",
       "14   2022-01-01   0.0  3388081           3388081          (2007 TL23)   \n",
       "15   2022-01-01   0.0  3592308           3592308          (2012 AP10)   \n",
       "16   2022-01-01   0.0  3744561           3744561         (2016 CN248)   \n",
       "17   2022-01-01   0.0  3771592           3771592         (2017 DA120)   \n",
       "18   2022-01-01   0.0  3775153           3775153          (2017 KU34)   \n",
       "455  2022-01-04   0.0  3840701           3840701            (2019 FZ)   \n",
       "560  2022-01-05   0.0  2352102           2352102   352102 (2007 AG12)   \n",
       "\n",
       "                                      nasa_jpl_url  absolute_magnitude_h  \\\n",
       "11   http://ssd.jpl.nasa.gov/sbdb.cgi?sstr=2363505                 18.52   \n",
       "12   http://ssd.jpl.nasa.gov/sbdb.cgi?sstr=2376848                 19.61   \n",
       "13   http://ssd.jpl.nasa.gov/sbdb.cgi?sstr=2488490                 21.90   \n",
       "14   http://ssd.jpl.nasa.gov/sbdb.cgi?sstr=3388081                 21.48   \n",
       "15   http://ssd.jpl.nasa.gov/sbdb.cgi?sstr=3592308                 26.50   \n",
       "16   http://ssd.jpl.nasa.gov/sbdb.cgi?sstr=3744561                 27.30   \n",
       "17   http://ssd.jpl.nasa.gov/sbdb.cgi?sstr=3771592                 19.59   \n",
       "18   http://ssd.jpl.nasa.gov/sbdb.cgi?sstr=3775153                 23.60   \n",
       "455  http://ssd.jpl.nasa.gov/sbdb.cgi?sstr=3840701                 21.36   \n",
       "560  http://ssd.jpl.nasa.gov/sbdb.cgi?sstr=2352102                 19.40   \n",
       "\n",
       "     kilometers estimated_diameter_min  kilometers estimated_diameter_max  \\\n",
       "11                            0.525479                           1.175006   \n",
       "12                            0.318094                           0.711279   \n",
       "13                            0.110804                           0.247765   \n",
       "14                            0.134448                           0.300635   \n",
       "15                            0.013322                           0.029788   \n",
       "16                            0.009216                           0.020608   \n",
       "17                            0.321037                           0.717860   \n",
       "18                            0.050647                           0.113250   \n",
       "455                           0.142087                           0.317717   \n",
       "560                           0.350393                           0.783502   \n",
       "\n",
       "     meters estimated_diameter_min  ...  \\\n",
       "11                      525.478530  ...   \n",
       "12                      318.093633  ...   \n",
       "13                      110.803882  ...   \n",
       "14                      134.448195  ...   \n",
       "15                       13.321557  ...   \n",
       "16                        9.216265  ...   \n",
       "17                      321.036917  ...   \n",
       "18                       50.647146  ...   \n",
       "455                     142.087207  ...   \n",
       "560                     350.392641  ...   \n",
       "\n",
       "     relative_velocity kilometers_per_second  \\\n",
       "11                                 12.518531   \n",
       "12                                 17.701016   \n",
       "13                                 21.077399   \n",
       "14                                 31.100974   \n",
       "15                                 15.995934   \n",
       "16                                 10.698308   \n",
       "17                                 18.578883   \n",
       "18                                 10.146090   \n",
       "455                                22.792098   \n",
       "560                                23.043492   \n",
       "\n",
       "     relative_velocity kilometers_per_hour  relative_velocity miles_per_hour  \\\n",
       "11                            45066.713121                      28002.702939   \n",
       "12                            63723.656796                      39595.402191   \n",
       "13                            75878.637808                      47148.034698   \n",
       "14                           111963.505363                      69569.768096   \n",
       "15                            57585.362913                      35781.305083   \n",
       "16                            38513.908427                      23931.044934   \n",
       "17                            66883.978046                      41559.102914   \n",
       "18                            36525.923514                      22695.788419   \n",
       "455                           82051.552784                      50983.644006   \n",
       "560                           82956.569418                      51545.986148   \n",
       "\n",
       "     miss_distance astronomical  miss_distance lunar  \\\n",
       "11                     0.157698            61.344390   \n",
       "12                     0.342086           133.071640   \n",
       "13                     0.407186           158.395382   \n",
       "14                     0.197682            76.898348   \n",
       "15                     0.397118           154.478962   \n",
       "16                     0.406688           158.201469   \n",
       "17                     0.470055           182.851256   \n",
       "18                     0.183371            71.331354   \n",
       "455                    0.460267           179.043808   \n",
       "560                    0.408571           158.933968   \n",
       "\n",
       "     miss_distance kilometers miss_distance miles orbiting_body  \\\n",
       "11               2.359123e+07        1.465891e+07         Earth   \n",
       "12               5.117541e+07        3.179892e+07         Earth   \n",
       "13               6.091417e+07        3.785031e+07         Earth   \n",
       "14               2.957283e+07        1.837570e+07         Earth   \n",
       "15               5.940803e+07        3.691444e+07         Earth   \n",
       "16               6.083960e+07        3.780397e+07         Earth   \n",
       "17               7.031917e+07        4.369431e+07         Earth   \n",
       "18               2.743192e+07        1.704541e+07         Earth   \n",
       "455              6.885494e+07        4.278448e+07         Earth   \n",
       "560              6.112129e+07        3.797901e+07         Earth   \n",
       "\n",
       "     is_sentry_object  kilometers estimated_diameter_mean  \n",
       "11              False                            0.850242  \n",
       "12              False                            0.514686  \n",
       "13              False                            0.179284  \n",
       "14              False                            0.217542  \n",
       "15              False                            0.021555  \n",
       "16              False                            0.014912  \n",
       "17              False                            0.519449  \n",
       "18              False                            0.081949  \n",
       "455             False                            0.229902  \n",
       "560             False                            0.566947  \n",
       "\n",
       "[10 rows x 29 columns]"
      ]
     },
     "execution_count": 149,
     "metadata": {},
     "output_type": "execute_result"
    }
   ],
   "source": [
    "\n",
    "\n",
    "#sns.scatterplot(x=\"miss_distance lunar\",y=\"kilometers estimated_diameter_min\",data=df_data).set(title='Scatter plot of the correlation')\n",
    "\n",
    "#sns.scatterplot(x=df_data.groupby('is_potentially_hazardous_asteroid')['kilometers estimated_diameter_mean'],y=df_data.groupby('is_potentially_hazardous_asteroid')['kilometers estimated_diameter_mean']).set(title='Scatter plot of the correlation')\n",
    "\n",
    "df_data.groupby('is_potentially_hazardous_asteroid').head()\n"
   ]
  },
  {
   "attachments": {},
   "cell_type": "markdown",
   "metadata": {},
   "source": [
    "### Task 3: Data Visualization Part A\n",
    "\n",
    "- Create a line plot of the number of NEOs per week.\n",
    "- Create a histogram of the distribution of NEO sizes.\n",
    "- Create a bar plot of the average NEO size per week.\n",
    "- Use a library like Seaborn to create more complex visualizations, such as a box plot of the NEO sizes or a heat map of the number of NEOs per week. **Be creative**!"
   ]
  },
  {
   "cell_type": "code",
   "execution_count": 106,
   "metadata": {},
   "outputs": [
    {
     "data": {
      "image/png": "[encoded data removed]",
      "text/plain": [
       "<Figure size 432x288 with 1 Axes>"
      ]
     },
     "metadata": {},
     "output_type": "display_data"
    }
   ],
   "source": [
    "#### Create a line plot of the number of NEOs per week ####\n",
    "\n",
    "df_NEO_week_number = df_data.groupby('week')['date'].count()\n",
    "\n",
    "plt.plot(df_NEO_week_number.index, df_NEO_week_number)\n",
    "plt.xticks(rotation=30, ha='right', ticks=np.arange(0,54,3))\n",
    "plt.xlabel('Week')\n",
    "plt.ylabel('Number of NEOs')\n",
    "plt.show()"
   ]
  },
  {
   "cell_type": "code",
   "execution_count": 124,
   "metadata": {},
   "outputs": [
    {
     "data": {
      "image/png": "[encoded data removed]",
      "text/plain": [
       "<Figure size 432x288 with 1 Axes>"
      ]
     },
     "metadata": {},
     "output_type": "display_data"
    }
   ],
   "source": [
    "#### Create a histogram of the distribution of NEO sizes #### \n",
    "\n",
    "plt.hist(df_data['kilometers estimated_diameter_mean'],bins=20)\n",
    "plt.title('Histogram of NEO sizes')\n",
    "plt.xlabel('Size')\n",
    "plt.ylabel('Count')\n",
    "plt.show()"
   ]
  },
  {
   "cell_type": "code",
   "execution_count": 104,
   "metadata": {},
   "outputs": [
    {
     "data": {
      "image/png": "[encoded data removed]",
      "text/plain": [
       "<Figure size 432x288 with 1 Axes>"
      ]
     },
     "metadata": {},
     "output_type": "display_data"
    }
   ],
   "source": [
    "#Create a bar plot of the average NEO size per week.\n",
    "\n",
    "df_NEO_size_week_mean = df_data.groupby('week')['kilometers estimated_diameter_mean'].mean()\n",
    "\n",
    "plt.bar(df_NEO_size_week_mean.index, df_NEO_size_week_mean)\n",
    "plt.xlabel('Week')\n",
    "plt.ylabel('Average NEO size')\n",
    "plt.show()"
   ]
  },
  {
   "cell_type": "code",
   "execution_count": 111,
   "metadata": {},
   "outputs": [
    {
     "data": {
      "text/plain": [
       "<AxesSubplot:xlabel='kilometers estimated_diameter_mean'>"
      ]
     },
     "execution_count": 111,
     "metadata": {},
     "output_type": "execute_result"
    },
    {
     "data": {
      "image/png": "[encoded data removed]",
      "text/plain": [
       "<Figure size 432x288 with 1 Axes>"
      ]
     },
     "metadata": {},
     "output_type": "display_data"
    }
   ],
   "source": [
    "#Use a library like Seaborn to create more complex visualizations, such as a box plot of the NEO sizes or a heat map of the number of NEOs per week.\n",
    "\n",
    "sns.boxplot(x=df_data['kilometers estimated_diameter_mean'])"
   ]
  },
  {
   "cell_type": "code",
   "execution_count": 126,
   "metadata": {},
   "outputs": [
    {
     "data": {
      "text/plain": [
       "<AxesSubplot:xlabel='kilometers estimated_diameter_mean'>"
      ]
     },
     "execution_count": 126,
     "metadata": {},
     "output_type": "execute_result"
    },
    {
     "data": {
      "image/png": "[encoded data removed]",
      "text/plain": [
       "<Figure size 432x288 with 1 Axes>"
      ]
     },
     "metadata": {},
     "output_type": "display_data"
    }
   ],
   "source": [
    "# Boxplot without outliers\n",
    "sns.boxplot(x=df_data['kilometers estimated_diameter_mean'],showfliers = False)"
   ]
  },
  {
   "cell_type": "code",
   "execution_count": 115,
   "metadata": {},
   "outputs": [
    {
     "data": {
      "text/plain": [
       "<seaborn.axisgrid.PairGrid at 0x7f9b24e494f0>"
      ]
     },
     "execution_count": 115,
     "metadata": {},
     "output_type": "execute_result"
    },
    {
     "data": {
      "image/png": "[encoded data removed]",
      "text/plain": [
       "<Figure size 720x720 with 20 Axes>"
      ]
     },
     "metadata": {},
     "output_type": "display_data"
    }
   ],
   "source": [
    "# Testing different feature for correlation\n",
    "col = ['absolute_magnitude_h','relative_velocity kilometers_per_hour','kilometers estimated_diameter_mean', 'miss_distance lunar']\n",
    "\n",
    "sns.pairplot(df_data,vars=col)"
   ]
  },
  {
   "cell_type": "code",
   "execution_count": 150,
   "metadata": {},
   "outputs": [
    {
     "data": {
      "text/plain": [
       "[Text(0.5, 1.0, 'Scatter plot of the correlation')]"
      ]
     },
     "execution_count": 150,
     "metadata": {},
     "output_type": "execute_result"
    },
    {
     "data": {
      "image/png": "[encoded data removed]",
      "text/plain": [
       "<Figure size 432x288 with 1 Axes>"
      ]
     },
     "metadata": {},
     "output_type": "display_data"
    }
   ],
   "source": [
    "\n",
    "sns.scatterplot(x=\"absolute_magnitude_h\",y=\"kilometers estimated_diameter_mean\",data=df_data).set(title='Scatter plot of the correlation')"
   ]
  },
  {
   "attachments": {},
   "cell_type": "markdown",
   "metadata": {},
   "source": [
    "### Task 4: Data Visualization Part B\n",
    "\n",
    "- Create a pie chart of the proportion of hazardous vs non-hazardous NEOs.\n",
    "- Create a scatter plot of the correlation between NEO size and close approach distance.\n",
    "- Customize the appearance of your plots (e.g., colors, labels, titles).\n",
    "- Create interactive visualizations using a library like Plotly. For example, create an interactive scatter plot where you can hover over each point to see more information about the NEO. **Be creative!**"
   ]
  },
  {
   "cell_type": "code",
   "execution_count": 14,
   "metadata": {},
   "outputs": [
    {
     "data": {
      "image/png": "[encoded data removed]",
      "text/plain": [
       "<Figure size 432x288 with 1 Axes>"
      ]
     },
     "metadata": {},
     "output_type": "display_data"
    }
   ],
   "source": [
    "#  Pie chart of the proportion of hazardous vs non-hazardous NEOs.\n",
    "labels = ['True', 'False']\n",
    "counts = [true_count, false_count]\n",
    "\n",
    "plt.figure(facecolor='white')\n",
    "plt.pie(counts, labels = labels)\n",
    "plt.title('Distribution of hazardous vs non-hazardous NEOs')\n",
    "plt.show() "
   ]
  },
  {
   "cell_type": "code",
   "execution_count": 101,
   "metadata": {},
   "outputs": [
    {
     "data": {
      "text/plain": [
       "[Text(0.5, 1.0, 'Scatter plot of the correlation')]"
      ]
     },
     "execution_count": 101,
     "metadata": {},
     "output_type": "execute_result"
    },
    {
     "data": {
      "image/png": "[encoded data removed]",
      "text/plain": [
       "<Figure size 432x288 with 1 Axes>"
      ]
     },
     "metadata": {},
     "output_type": "display_data"
    }
   ],
   "source": [
    "#### Scatter plot of the correlation between NEO size and close approach distance ###\n",
    "\n",
    "\n",
    "sns.scatterplot(x=\"miss_distance lunar\",y=\"kilometers estimated_diameter_mean\",data=df_data).set(title='Scatter plot of the correlation')"
   ]
  },
  {
   "cell_type": "code",
   "execution_count": 99,
   "metadata": {},
   "outputs": [
    {
     "data": {
      "application/vnd.plotly.v1+json": {
       "config": {
        "plotlyServerURL": "https://plot.ly"
       },
       "data": [
        {
         "hovertemplate": "x=%{x}<br>y=%{y}<extra></extra>",
         "legendgroup": "",
         "line": {
          "color": "#636efa",
          "dash": "solid"
         },
         "marker": {
          "symbol": "circle"
         },
         "mode": "lines",
         "name": "",
         "orientation": "v",
         "showlegend": false,
         "type": "scatter",
         "x": [
          "2022-01-01",
          "2022-01-02",
          "2022-01-03",
          "2022-01-04",
          "2022-01-05",
          "2022-01-06",
          "2022-01-07",
          "2022-01-08",
          "2022-01-09",
          "2022-01-10",
          "2022-01-11",
          "2022-01-12",
          "2022-01-13",
          "2022-01-14",
          "2022-01-15",
          "2022-01-16",
          "2022-01-17",
          "2022-01-18",
          "2022-01-19",
          "2022-01-20",
          "2022-01-21",
          "2022-01-22",
          "2022-01-23",
          "2022-01-24",
          "2022-01-25",
          "2022-01-26",
          "2022-01-27",
          "2022-01-28",
          "2022-01-29",
          "2022-01-30",
          "2022-01-31",
          "2022-02-01",
          "2022-02-02",
          "2022-02-03",
          "2022-02-04",
          "2022-02-05",
          "2022-02-06",
          "2022-02-07",
          "2022-02-08",
          "2022-02-09",
          "2022-02-10",
          "2022-02-11",
          "2022-02-12",
          "2022-02-13",
          "2022-02-14",
          "2022-02-15",
          "2022-02-16",
          "2022-02-17",
          "2022-02-18",
          "2022-02-19",
          "2022-02-20",
          "2022-02-21",
          "2022-02-22",
          "2022-02-23",
          "2022-02-24",
          "2022-02-25",
          "2022-02-26",
          "2022-02-27",
          "2022-02-28",
          "2022-03-01",
          "2022-03-02",
          "2022-03-03",
          "2022-03-04",
          "2022-03-05",
          "2022-03-06",
          "2022-03-07",
          "2022-03-08",
          "2022-03-09",
          "2022-03-10",
          "2022-03-11",
          "2022-03-12",
          "2022-03-13",
          "2022-03-14",
          "2022-03-15",
          "2022-03-16",
          "2022-03-17",
          "2022-03-18",
          "2022-03-19",
          "2022-03-20",
          "2022-03-21",
          "2022-03-22",
          "2022-03-23",
          "2022-03-24",
          "2022-03-25",
          "2022-03-26",
          "2022-03-27",
          "2022-03-28",
          "2022-03-29",
          "2022-03-30",
          "2022-03-31",
          "2022-04-01",
          "2022-04-02",
          "2022-04-03",
          "2022-04-04",
          "2022-04-05",
          "2022-04-06",
          "2022-04-07",
          "2022-04-08",
          "2022-04-09",
          "2022-04-10",
          "2022-04-11",
          "2022-04-12",
          "2022-04-13",
          "2022-04-14",
          "2022-04-15",
          "2022-04-16",
          "2022-04-17",
          "2022-04-18",
          "2022-04-19",
          "2022-04-20",
          "2022-04-21",
          "2022-04-22",
          "2022-04-23",
          "2022-04-24",
          "2022-04-25",
          "2022-04-26",
          "2022-04-27",
          "2022-04-28",
          "2022-04-29",
          "2022-04-30",
          "2022-05-01",
          "2022-05-02",
          "2022-05-03",
          "2022-05-04",
          "2022-05-05",
          "2022-05-06",
          "2022-05-07",
          "2022-05-08",
          "2022-05-09",
          "2022-05-10",
          "2022-05-11",
          "2022-05-12",
          "2022-05-13",
          "2022-05-14",
          "2022-05-15",
          "2022-05-16",
          "2022-05-17",
          "2022-05-18",
          "2022-05-19",
          "2022-05-20",
          "2022-05-21",
          "2022-05-22",
          "2022-05-23",
          "2022-05-24",
          "2022-05-25",
          "2022-05-26",
          "2022-05-27",
          "2022-05-28",
          "2022-05-29",
          "2022-05-30",
          "2022-05-31",
          "2022-06-01",
          "2022-06-02",
          "2022-06-03",
          "2022-06-04",
          "2022-06-05",
          "2022-06-06",
          "2022-06-07",
          "2022-06-08",
          "2022-06-09",
          "2022-06-10",
          "2022-06-11",
          "2022-06-12",
          "2022-06-13",
          "2022-06-14",
          "2022-06-15",
          "2022-06-16",
          "2022-06-17",
          "2022-06-18",
          "2022-06-19",
          "2022-06-20",
          "2022-06-21",
          "2022-06-22",
          "2022-06-23",
          "2022-06-24",
          "2022-06-25",
          "2022-06-26",
          "2022-06-27",
          "2022-06-28",
          "2022-06-29",
          "2022-06-30",
          "2022-07-01",
          "2022-07-02",
          "2022-07-03",
          "2022-07-04",
          "2022-07-05",
          "2022-07-06",
          "2022-07-07",
          "2022-07-08",
          "2022-07-09",
          "2022-07-10",
          "2022-07-11",
          "2022-07-12",
          "2022-07-13",
          "2022-07-14",
          "2022-07-15",
          "2022-07-16",
          "2022-07-17",
          "2022-07-18",
          "2022-07-19",
          "2022-07-20",
          "2022-07-21",
          "2022-07-22",
          "2022-07-23",
          "2022-07-24",
          "2022-07-25",
          "2022-07-26",
          "2022-07-27",
          "2022-07-28",
          "2022-07-29",
          "2022-07-30",
          "2022-07-31",
          "2022-08-01",
          "2022-08-02",
          "2022-08-03",
          "2022-08-04",
          "2022-08-05",
          "2022-08-06",
          "2022-08-07",
          "2022-08-08",
          "2022-08-09",
          "2022-08-10",
          "2022-08-11",
          "2022-08-12",
          "2022-08-13",
          "2022-08-14",
          "2022-08-15",
          "2022-08-16",
          "2022-08-17",
          "2022-08-18",
          "2022-08-19",
          "2022-08-20",
          "2022-08-21",
          "2022-08-22",
          "2022-08-23",
          "2022-08-24",
          "2022-08-25",
          "2022-08-26",
          "2022-08-27",
          "2022-08-28",
          "2022-08-29",
          "2022-08-30",
          "2022-08-31",
          "2022-09-01",
          "2022-09-02",
          "2022-09-03",
          "2022-09-04",
          "2022-09-05",
          "2022-09-06",
          "2022-09-07",
          "2022-09-08",
          "2022-09-09",
          "2022-09-10",
          "2022-09-11",
          "2022-09-12",
          "2022-09-13",
          "2022-09-14",
          "2022-09-15",
          "2022-09-16",
          "2022-09-17",
          "2022-09-18",
          "2022-09-19",
          "2022-09-20",
          "2022-09-21",
          "2022-09-22",
          "2022-09-23",
          "2022-09-24",
          "2022-09-25",
          "2022-09-26",
          "2022-09-27",
          "2022-09-28",
          "2022-09-29",
          "2022-09-30",
          "2022-10-01",
          "2022-10-02",
          "2022-10-03",
          "2022-10-04",
          "2022-10-05",
          "2022-10-06",
          "2022-10-07",
          "2022-10-08",
          "2022-10-09",
          "2022-10-10",
          "2022-10-11",
          "2022-10-12",
          "2022-10-13",
          "2022-10-14",
          "2022-10-15",
          "2022-10-16",
          "2022-10-17",
          "2022-10-18",
          "2022-10-19",
          "2022-10-20",
          "2022-10-21",
          "2022-10-22",
          "2022-10-23",
          "2022-10-24",
          "2022-10-25",
          "2022-10-26",
          "2022-10-27",
          "2022-10-28",
          "2022-10-29",
          "2022-10-30",
          "2022-10-31",
          "2022-11-01",
          "2022-11-02",
          "2022-11-03",
          "2022-11-04",
          "2022-11-05",
          "2022-11-06",
          "2022-11-07",
          "2022-11-08",
          "2022-11-09",
          "2022-11-10",
          "2022-11-11",
          "2022-11-12",
          "2022-11-13",
          "2022-11-14",
          "2022-11-15",
          "2022-11-16",
          "2022-11-17",
          "2022-11-18",
          "2022-11-19",
          "2022-11-20",
          "2022-11-21",
          "2022-11-22",
          "2022-11-23",
          "2022-11-24",
          "2022-11-25",
          "2022-11-26",
          "2022-11-27",
          "2022-11-28",
          "2022-11-29",
          "2022-11-30",
          "2022-12-01",
          "2022-12-02",
          "2022-12-03",
          "2022-12-04",
          "2022-12-05",
          "2022-12-06",
          "2022-12-07",
          "2022-12-08",
          "2022-12-09",
          "2022-12-10",
          "2022-12-11",
          "2022-12-12",
          "2022-12-13",
          "2022-12-14",
          "2022-12-15",
          "2022-12-16",
          "2022-12-17",
          "2022-12-18",
          "2022-12-19",
          "2022-12-20",
          "2022-12-21",
          "2022-12-22",
          "2022-12-23",
          "2022-12-24",
          "2022-12-25",
          "2022-12-26",
          "2022-12-27",
          "2022-12-28",
          "2022-12-29",
          "2022-12-30",
          "2022-12-31",
          "2023-01-01"
         ],
         "xaxis": "x",
         "y": [
          0.16406950632826087,
          0.11328381129615384,
          0.02817892942142857,
          0.08017934406666667,
          0.1771489671,
          0.19303476659500002,
          0.136416695,
          0.1889208596153846,
          0.09233174888333333,
          0.12981800098,
          0.0915920776325,
          0.10213785365714287,
          0.13684841552,
          0.27376014224411765,
          0.09458464650277779,
          0.11176921471944445,
          0.2521997883479166,
          0.20642771410000002,
          0.101748268535,
          0.11304951509772727,
          0.20215950937894736,
          0.13424328704642857,
          0.21310405239761904,
          0.15845032266190476,
          0.20290064993947365,
          0.0934330581,
          0.12368635149210527,
          0.11398971610714285,
          0.2988924781441176,
          0.16285954118333332,
          0.24691612142,
          0.07941068103333333,
          0.1808692209375,
          0.07234058581481483,
          0.10197378029333334,
          0.1683079361076923,
          0.21893410385666667,
          0.1510100533,
          0.11443134601447369,
          0.2405300779175,
          0.11382174302857144,
          0.0853564015375,
          0.1437104941875,
          0.08210438463846155,
          0.08710501773157894,
          0.18800979133684212,
          0.18253781297619048,
          0.10480228225,
          0.1969396557894737,
          0.301252146438,
          0.30817224233055557,
          0.11174411903846153,
          0.1357136220125,
          0.15882522917291667,
          0.305993984390625,
          0.13787153930625,
          0.18017629197391305,
          0.07313849900217391,
          0.14617457323076924,
          0.06814232038611111,
          0.07437635389000001,
          0.10506507605250001,
          0.21797125347173915,
          0.10938953873181818,
          0.094211485886,
          0.11821504458695652,
          0.12210892914999999,
          0.10306788184722221,
          0.1939850929075,
          0.1384743365269231,
          0.20874495636923077,
          0.11942162693518518,
          0.09266945504772726,
          0.26947410700999996,
          0.3581959732952381,
          0.059340095428124996,
          0.049940035157142855,
          0.130609120871875,
          0.066316577878125,
          0.15189107729210527,
          0.11611806098,
          0.12939027185250002,
          0.1286140696142857,
          0.09849800035625,
          0.1142116092875,
          0.3403907322576923,
          0.2854662096766667,
          0.11130568132727273,
          0.15215385498,
          0.095953734742,
          0.08579663480576924,
          0.07891465855833334,
          0.19108871193333332,
          0.0602121774868421,
          0.12638567629375,
          0.10016214136428571,
          0.1011050680117647,
          0.146763102,
          0.16379516639,
          0.1024045059611111,
          0.1252478596722222,
          0.224897909095,
          0.1093776691425,
          0.14083478097692306,
          0.06271838805769231,
          0.063129486690625,
          0.081162100653125,
          0.13298727070714286,
          0.1335893889195652,
          0.08561609733947369,
          0.05795054212999999,
          0.19452241912499998,
          0.09791421620882353,
          0.10113701509375,
          0.10397552014807691,
          0.14954155254210527,
          0.06822209382272727,
          0.13739480888,
          0.09644993660500001,
          0.23680775313400002,
          0.1103775773111111,
          0.13883442461086956,
          0.14861638494666668,
          0.23744451836333333,
          0.08125591083,
          0.14492149014285713,
          0.16027823727619048,
          0.153344180575,
          0.131574536425,
          0.13932955962058824,
          0.1423642325833333,
          0.136733696475,
          0.24341293997142857,
          0.149297580845,
          0.13404603315555555,
          0.1150301471725,
          0.25305599809444446,
          0.06291438097692308,
          0.0866351870475,
          0.0823109460675,
          0.060926657829999994,
          0.16394491522333335,
          0.12162249918125,
          0.15435117125357142,
          0.05510298908611111,
          0.06597272418333333,
          0.19249083563888889,
          0.20885068261764705,
          0.12999438178846154,
          0.10722988467916666,
          0.12593613703928572,
          0.1634166756318182,
          0.05207754197666667,
          0.11429230911842103,
          0.06986917022692309,
          0.0774823374576923,
          0.25863341696578945,
          0.11244278379166667,
          0.09033910882500001,
          0.19802129261944446,
          0.19517217865588235,
          0.31194964955454546,
          0.06901257535666666,
          0.3283680369388889,
          0.32930229296428576,
          0.15189311470666667,
          0.15122570244642858,
          0.152054983290625,
          0.32244985553333333,
          0.20636924851333335,
          0.27071015995555553,
          0.24898065048749998,
          0.17440256996428571,
          0.37755046681428567,
          0.18148574296666667,
          0.19516943109523807,
          0.1567270646,
          0.1286181348173077,
          0.13631276609999998,
          0.2585268752,
          0.17674494130416665,
          0.21086491427307694,
          0.21527923367500001,
          0.23503168584117648,
          0.14392299259166666,
          0.13101051430555558,
          0.5540470370375,
          0.1410262523047619,
          0.149491727025,
          0.2886030229088235,
          0.08395006291764706,
          0.4084885161888889,
          0.16900356418333334,
          0.24747895976538462,
          0.16646025556666666,
          0.28761329188421053,
          0.22637895769411764,
          0.124609709,
          0.3015475659875,
          0.35066879814230767,
          0.32080555675588235,
          0.150915735496875,
          0.2222631841764706,
          0.6036254693115384,
          0.15437484400416668,
          0.2831573940125,
          0.1789282685775,
          0.3433978267346154,
          0.20642848400769231,
          0.13666358178958335,
          0.131925134725,
          0.116775631555,
          0.05363841428333333,
          0.0866409268,
          0.13578818262142858,
          0.1179009396,
          0.13103344951470589,
          0.17188233197307692,
          0.20935669970357143,
          0.13776437815,
          0.19733458632857143,
          0.14596458708333335,
          0.11951876641428572,
          0.148581402525,
          0.1628052116175,
          0.10825989795625,
          0.23503569609545452,
          0.18059625991607145,
          0.1399878155025,
          0.17053258229999999,
          0.09048832780882353,
          0.15100901268333333,
          0.187233067,
          0.07616039534499999,
          0.10076433816666665,
          0.11833967490357143,
          0.0957606688875,
          0.08194365223846155,
          0.10827888995200001,
          0.10634113669285714,
          0.2650770612543478,
          0.05853210632307692,
          0.2510482704,
          0.21604354748947366,
          0.1075011601095238,
          0.14197979556190476,
          0.12870449566818182,
          0.0808588980275,
          0.09944859495357143,
          0.1277121585809524,
          0.13651664005,
          0.19417109270277777,
          0.17540689000789475,
          0.18759769790263156,
          0.09544542115322581,
          0.11703709414999999,
          0.15986494471458332,
          0.1667214766357143,
          0.10490666856818182,
          0.107010396035,
          0.17533510294166665,
          0.10412928523863636,
          0.0831051606888889,
          0.160373607625,
          0.08262060297608696,
          0.063961931878125,
          0.12326722658809523,
          0.1609416575021739,
          0.0705260055,
          0.14172782553676472,
          0.10971355155869564,
          0.1328149367148148,
          0.12746240642333334,
          0.08590963834137931,
          0.12042994555357144,
          0.08885269134333333,
          0.197131783335,
          0.18448695731538461,
          0.14970273757586208,
          0.223757712105,
          0.2252311014425926,
          0.065649395645,
          0.12387321736346155,
          0.13227401390454546,
          0.3388970688833333,
          0.10775387334411765,
          0.09958166383409091,
          0.13555908525,
          0.15112333956041665,
          0.20782844169285714,
          0.17533669102000002,
          0.111926022828125,
          0.08965634662916666,
          0.07144268166129032,
          0.107284930025,
          0.10895979229090909,
          0.09067039455645161,
          0.10846126598076923,
          0.07316988990294118,
          0.09993205223,
          0.14027288577708333,
          0.14175427743541666,
          0.09379025291296296,
          0.09140765670689655,
          0.13481454532307693,
          0.24501033819318183,
          0.1372302068152174,
          0.09178131815,
          0.093291729085,
          0.13796251966451611,
          0.0826732378375,
          0.07829011221,
          0.1120977576,
          0.185428949125,
          0.07107023633809524,
          0.27776147306904764,
          0.1406790119681818,
          0.1047915618617647,
          0.0763641222117647,
          0.11696731860789474,
          0.2594612115214286,
          0.11062232957857143,
          0.06762423083124999,
          0.274657665625,
          0.22489917221800002,
          0.097261139008,
          0.0943884067326087,
          0.10854243214411764,
          0.2335008598479167,
          0.1278831615764706,
          0.07588894778611112,
          0.15080393912105264,
          0.147651892805,
          0.1683893187043478,
          0.12879557712368422,
          0.09645226588275863,
          0.31365961048636365,
          0.16852839994166666,
          0.23115904097499998,
          0.10364378570624999,
          0.12376501844,
          0.10489196772058823,
          0.12372780141724136,
          0.101977313303125,
          0.3608314882423077,
          0.283453733175,
          0.0742729514125,
          0.12601543539166668,
          0.11238431703928571,
          0.133617918945,
          0.0953145995625,
          0.12913470725714285,
          0.1280662440888889,
          0.1486045379351852,
          0.23006746247941176,
          0.1656056356525,
          0.08954331435333333,
          0.15812360964210526,
          0.11354597949473684,
          0.09137036652500001,
          0.2095365130785714,
          0.125472723596875,
          0.18891664036666664,
          0.1374821362642857,
          0.052291387625,
          0.3050945979456522
         ],
         "yaxis": "y"
        }
       ],
       "layout": {
        "legend": {
         "tracegroupgap": 0
        },
        "template": {
         "data": {
          "bar": [
           {
            "error_x": {
             "color": "#2a3f5f"
            },
            "error_y": {
             "color": "#2a3f5f"
            },
            "marker": {
             "line": {
              "color": "#E5ECF6",
              "width": 0.5
             },
             "pattern": {
              "fillmode": "overlay",
              "size": 10,
              "solidity": 0.2
             }
            },
            "type": "bar"
           }
          ],
          "barpolar": [
           {
            "marker": {
             "line": {
              "color": "#E5ECF6",
              "width": 0.5
             },
             "pattern": {
              "fillmode": "overlay",
              "size": 10,
              "solidity": 0.2
             }
            },
            "type": "barpolar"
           }
          ],
          "carpet": [
           {
            "aaxis": {
             "endlinecolor": "#2a3f5f",
             "gridcolor": "white",
             "linecolor": "white",
             "minorgridcolor": "white",
             "startlinecolor": "#2a3f5f"
            },
            "baxis": {
             "endlinecolor": "#2a3f5f",
             "gridcolor": "white",
             "linecolor": "white",
             "minorgridcolor": "white",
             "startlinecolor": "#2a3f5f"
            },
            "type": "carpet"
           }
          ],
          "choropleth": [
           {
            "colorbar": {
             "outlinewidth": 0,
             "ticks": ""
            },
            "type": "choropleth"
           }
          ],
          "contour": [
           {
            "colorbar": {
             "outlinewidth": 0,
             "ticks": ""
            },
            "colorscale": [
             [
              0,
              "#0d0887"
             ],
             [
              0.1111111111111111,
              "#46039f"
             ],
             [
              0.2222222222222222,
              "#7201a8"
             ],
             [
              0.3333333333333333,
              "#9c179e"
             ],
             [
              0.4444444444444444,
              "#bd3786"
             ],
             [
              0.5555555555555556,
              "#d8576b"
             ],
             [
              0.6666666666666666,
              "#ed7953"
             ],
             [
              0.7777777777777778,
              "#fb9f3a"
             ],
             [
              0.8888888888888888,
              "#fdca26"
             ],
             [
              1,
              "#f0f921"
             ]
            ],
            "type": "contour"
           }
          ],
          "contourcarpet": [
           {
            "colorbar": {
             "outlinewidth": 0,
             "ticks": ""
            },
            "type": "contourcarpet"
           }
          ],
          "heatmap": [
           {
            "colorbar": {
             "outlinewidth": 0,
             "ticks": ""
            },
            "colorscale": [
             [
              0,
              "#0d0887"
             ],
             [
              0.1111111111111111,
              "#46039f"
             ],
             [
              0.2222222222222222,
              "#7201a8"
             ],
             [
              0.3333333333333333,
              "#9c179e"
             ],
             [
              0.4444444444444444,
              "#bd3786"
             ],
             [
              0.5555555555555556,
              "#d8576b"
             ],
             [
              0.6666666666666666,
              "#ed7953"
             ],
             [
              0.7777777777777778,
              "#fb9f3a"
             ],
             [
              0.8888888888888888,
              "#fdca26"
             ],
             [
              1,
              "#f0f921"
             ]
            ],
            "type": "heatmap"
           }
          ],
          "heatmapgl": [
           {
            "colorbar": {
             "outlinewidth": 0,
             "ticks": ""
            },
            "colorscale": [
             [
              0,
              "#0d0887"
             ],
             [
              0.1111111111111111,
              "#46039f"
             ],
             [
              0.2222222222222222,
              "#7201a8"
             ],
             [
              0.3333333333333333,
              "#9c179e"
             ],
             [
              0.4444444444444444,
              "#bd3786"
             ],
             [
              0.5555555555555556,
              "#d8576b"
             ],
             [
              0.6666666666666666,
              "#ed7953"
             ],
             [
              0.7777777777777778,
              "#fb9f3a"
             ],
             [
              0.8888888888888888,
              "#fdca26"
             ],
             [
              1,
              "#f0f921"
             ]
            ],
            "type": "heatmapgl"
           }
          ],
          "histogram": [
           {
            "marker": {
             "pattern": {
              "fillmode": "overlay",
              "size": 10,
              "solidity": 0.2
             }
            },
            "type": "histogram"
           }
          ],
          "histogram2d": [
           {
            "colorbar": {
             "outlinewidth": 0,
             "ticks": ""
            },
            "colorscale": [
             [
              0,
              "#0d0887"
             ],
             [
              0.1111111111111111,
              "#46039f"
             ],
             [
              0.2222222222222222,
              "#7201a8"
             ],
             [
              0.3333333333333333,
              "#9c179e"
             ],
             [
              0.4444444444444444,
              "#bd3786"
             ],
             [
              0.5555555555555556,
              "#d8576b"
             ],
             [
              0.6666666666666666,
              "#ed7953"
             ],
             [
              0.7777777777777778,
              "#fb9f3a"
             ],
             [
              0.8888888888888888,
              "#fdca26"
             ],
             [
              1,
              "#f0f921"
             ]
            ],
            "type": "histogram2d"
           }
          ],
          "histogram2dcontour": [
           {
            "colorbar": {
             "outlinewidth": 0,
             "ticks": ""
            },
            "colorscale": [
             [
              0,
              "#0d0887"
             ],
             [
              0.1111111111111111,
              "#46039f"
             ],
             [
              0.2222222222222222,
              "#7201a8"
             ],
             [
              0.3333333333333333,
              "#9c179e"
             ],
             [
              0.4444444444444444,
              "#bd3786"
             ],
             [
              0.5555555555555556,
              "#d8576b"
             ],
             [
              0.6666666666666666,
              "#ed7953"
             ],
             [
              0.7777777777777778,
              "#fb9f3a"
             ],
             [
              0.8888888888888888,
              "#fdca26"
             ],
             [
              1,
              "#f0f921"
             ]
            ],
            "type": "histogram2dcontour"
           }
          ],
          "mesh3d": [
           {
            "colorbar": {
             "outlinewidth": 0,
             "ticks": ""
            },
            "type": "mesh3d"
           }
          ],
          "parcoords": [
           {
            "line": {
             "colorbar": {
              "outlinewidth": 0,
              "ticks": ""
             }
            },
            "type": "parcoords"
           }
          ],
          "pie": [
           {
            "automargin": true,
            "type": "pie"
           }
          ],
          "scatter": [
           {
            "fillpattern": {
             "fillmode": "overlay",
             "size": 10,
             "solidity": 0.2
            },
            "type": "scatter"
           }
          ],
          "scatter3d": [
           {
            "line": {
             "colorbar": {
              "outlinewidth": 0,
              "ticks": ""
             }
            },
            "marker": {
             "colorbar": {
              "outlinewidth": 0,
              "ticks": ""
             }
            },
            "type": "scatter3d"
           }
          ],
          "scattercarpet": [
           {
            "marker": {
             "colorbar": {
              "outlinewidth": 0,
              "ticks": ""
             }
            },
            "type": "scattercarpet"
           }
          ],
          "scattergeo": [
           {
            "marker": {
             "colorbar": {
              "outlinewidth": 0,
              "ticks": ""
             }
            },
            "type": "scattergeo"
           }
          ],
          "scattergl": [
           {
            "marker": {
             "colorbar": {
              "outlinewidth": 0,
              "ticks": ""
             }
            },
            "type": "scattergl"
           }
          ],
          "scattermapbox": [
           {
            "marker": {
             "colorbar": {
              "outlinewidth": 0,
              "ticks": ""
             }
            },
            "type": "scattermapbox"
           }
          ],
          "scatterpolar": [
           {
            "marker": {
             "colorbar": {
              "outlinewidth": 0,
              "ticks": ""
             }
            },
            "type": "scatterpolar"
           }
          ],
          "scatterpolargl": [
           {
            "marker": {
             "colorbar": {
              "outlinewidth": 0,
              "ticks": ""
             }
            },
            "type": "scatterpolargl"
           }
          ],
          "scatterternary": [
           {
            "marker": {
             "colorbar": {
              "outlinewidth": 0,
              "ticks": ""
             }
            },
            "type": "scatterternary"
           }
          ],
          "surface": [
           {
            "colorbar": {
             "outlinewidth": 0,
             "ticks": ""
            },
            "colorscale": [
             [
              0,
              "#0d0887"
             ],
             [
              0.1111111111111111,
              "#46039f"
             ],
             [
              0.2222222222222222,
              "#7201a8"
             ],
             [
              0.3333333333333333,
              "#9c179e"
             ],
             [
              0.4444444444444444,
              "#bd3786"
             ],
             [
              0.5555555555555556,
              "#d8576b"
             ],
             [
              0.6666666666666666,
              "#ed7953"
             ],
             [
              0.7777777777777778,
              "#fb9f3a"
             ],
             [
              0.8888888888888888,
              "#fdca26"
             ],
             [
              1,
              "#f0f921"
             ]
            ],
            "type": "surface"
           }
          ],
          "table": [
           {
            "cells": {
             "fill": {
              "color": "#EBF0F8"
             },
             "line": {
              "color": "white"
             }
            },
            "header": {
             "fill": {
              "color": "#C8D4E3"
             },
             "line": {
              "color": "white"
             }
            },
            "type": "table"
           }
          ]
         },
         "layout": {
          "annotationdefaults": {
           "arrowcolor": "#2a3f5f",
           "arrowhead": 0,
           "arrowwidth": 1
          },
          "autotypenumbers": "strict",
          "coloraxis": {
           "colorbar": {
            "outlinewidth": 0,
            "ticks": ""
           }
          },
          "colorscale": {
           "diverging": [
            [
             0,
             "#8e0152"
            ],
            [
             0.1,
             "#c51b7d"
            ],
            [
             0.2,
             "#de77ae"
            ],
            [
             0.3,
             "#f1b6da"
            ],
            [
             0.4,
             "#fde0ef"
            ],
            [
             0.5,
             "#f7f7f7"
            ],
            [
             0.6,
             "#e6f5d0"
            ],
            [
             0.7,
             "#b8e186"
            ],
            [
             0.8,
             "#7fbc41"
            ],
            [
             0.9,
             "#4d9221"
            ],
            [
             1,
             "#276419"
            ]
           ],
           "sequential": [
            [
             0,
             "#0d0887"
            ],
            [
             0.1111111111111111,
             "#46039f"
            ],
            [
             0.2222222222222222,
             "#7201a8"
            ],
            [
             0.3333333333333333,
             "#9c179e"
            ],
            [
             0.4444444444444444,
             "#bd3786"
            ],
            [
             0.5555555555555556,
             "#d8576b"
            ],
            [
             0.6666666666666666,
             "#ed7953"
            ],
            [
             0.7777777777777778,
             "#fb9f3a"
            ],
            [
             0.8888888888888888,
             "#fdca26"
            ],
            [
             1,
             "#f0f921"
            ]
           ],
           "sequentialminus": [
            [
             0,
             "#0d0887"
            ],
            [
             0.1111111111111111,
             "#46039f"
            ],
            [
             0.2222222222222222,
             "#7201a8"
            ],
            [
             0.3333333333333333,
             "#9c179e"
            ],
            [
             0.4444444444444444,
             "#bd3786"
            ],
            [
             0.5555555555555556,
             "#d8576b"
            ],
            [
             0.6666666666666666,
             "#ed7953"
            ],
            [
             0.7777777777777778,
             "#fb9f3a"
            ],
            [
             0.8888888888888888,
             "#fdca26"
            ],
            [
             1,
             "#f0f921"
            ]
           ]
          },
          "colorway": [
           "#636efa",
           "#EF553B",
           "#00cc96",
           "#ab63fa",
           "#FFA15A",
           "#19d3f3",
           "#FF6692",
           "#B6E880",
           "#FF97FF",
           "#FECB52"
          ],
          "font": {
           "color": "#2a3f5f"
          },
          "geo": {
           "bgcolor": "white",
           "lakecolor": "white",
           "landcolor": "#E5ECF6",
           "showlakes": true,
           "showland": true,
           "subunitcolor": "white"
          },
          "hoverlabel": {
           "align": "left"
          },
          "hovermode": "closest",
          "mapbox": {
           "style": "light"
          },
          "paper_bgcolor": "white",
          "plot_bgcolor": "#E5ECF6",
          "polar": {
           "angularaxis": {
            "gridcolor": "white",
            "linecolor": "white",
            "ticks": ""
           },
           "bgcolor": "#E5ECF6",
           "radialaxis": {
            "gridcolor": "white",
            "linecolor": "white",
            "ticks": ""
           }
          },
          "scene": {
           "xaxis": {
            "backgroundcolor": "#E5ECF6",
            "gridcolor": "white",
            "gridwidth": 2,
            "linecolor": "white",
            "showbackground": true,
            "ticks": "",
            "zerolinecolor": "white"
           },
           "yaxis": {
            "backgroundcolor": "#E5ECF6",
            "gridcolor": "white",
            "gridwidth": 2,
            "linecolor": "white",
            "showbackground": true,
            "ticks": "",
            "zerolinecolor": "white"
           },
           "zaxis": {
            "backgroundcolor": "#E5ECF6",
            "gridcolor": "white",
            "gridwidth": 2,
            "linecolor": "white",
            "showbackground": true,
            "ticks": "",
            "zerolinecolor": "white"
           }
          },
          "shapedefaults": {
           "line": {
            "color": "#2a3f5f"
           }
          },
          "ternary": {
           "aaxis": {
            "gridcolor": "white",
            "linecolor": "white",
            "ticks": ""
           },
           "baxis": {
            "gridcolor": "white",
            "linecolor": "white",
            "ticks": ""
           },
           "bgcolor": "#E5ECF6",
           "caxis": {
            "gridcolor": "white",
            "linecolor": "white",
            "ticks": ""
           }
          },
          "title": {
           "x": 0.05
          },
          "xaxis": {
           "automargin": true,
           "gridcolor": "white",
           "linecolor": "white",
           "ticks": "",
           "title": {
            "standoff": 15
           },
           "zerolinecolor": "white",
           "zerolinewidth": 2
          },
          "yaxis": {
           "automargin": true,
           "gridcolor": "white",
           "linecolor": "white",
           "ticks": "",
           "title": {
            "standoff": 15
           },
           "zerolinecolor": "white",
           "zerolinewidth": 2
          }
         }
        },
        "title": {
         "text": "Size"
        },
        "xaxis": {
         "anchor": "y",
         "domain": [
          0,
          1
         ],
         "title": {
          "text": "x"
         }
        },
        "yaxis": {
         "anchor": "x",
         "domain": [
          0,
          1
         ],
         "title": {
          "text": "y"
         }
        }
       }
      }
     },
     "metadata": {},
     "output_type": "display_data"
    }
   ],
   "source": [
    "# Interactive visualizations\n",
    "\n",
    "import plotly.express as px\n",
    "\n",
    "fig = px.line( y=df_NEO_size_day_mean, x=df_NEO_size_day_mean.index,title='Size')\n",
    "fig.show()\n",
    "\n"
   ]
  },
  {
   "cell_type": "code",
   "execution_count": 100,
   "metadata": {},
   "outputs": [
    {
     "data": {
      "application/vnd.plotly.v1+json": {
       "config": {
        "plotlyServerURL": "https://plot.ly"
       },
       "data": [
        {
         "hovertemplate": "x=%{x}<br>y=%{y}<extra></extra>",
         "legendgroup": "",
         "line": {
          "color": "#636efa",
          "dash": "solid"
         },
         "marker": {
          "symbol": "circle"
         },
         "mode": "lines",
         "name": "",
         "orientation": "v",
         "showlegend": false,
         "type": "scatter",
         "x": [
          "2022-01-01",
          "2022-01-02",
          "2022-01-03",
          "2022-01-04",
          "2022-01-05",
          "2022-01-06",
          "2022-01-07",
          "2022-01-08",
          "2022-01-09",
          "2022-01-10",
          "2022-01-11",
          "2022-01-12",
          "2022-01-13",
          "2022-01-14",
          "2022-01-15",
          "2022-01-16",
          "2022-01-17",
          "2022-01-18",
          "2022-01-19",
          "2022-01-20",
          "2022-01-21",
          "2022-01-22",
          "2022-01-23",
          "2022-01-24",
          "2022-01-25",
          "2022-01-26",
          "2022-01-27",
          "2022-01-28",
          "2022-01-29",
          "2022-01-30",
          "2022-01-31",
          "2022-02-01",
          "2022-02-02",
          "2022-02-03",
          "2022-02-04",
          "2022-02-05",
          "2022-02-06",
          "2022-02-07",
          "2022-02-08",
          "2022-02-09",
          "2022-02-10",
          "2022-02-11",
          "2022-02-12",
          "2022-02-13",
          "2022-02-14",
          "2022-02-15",
          "2022-02-16",
          "2022-02-17",
          "2022-02-18",
          "2022-02-19",
          "2022-02-20",
          "2022-02-21",
          "2022-02-22",
          "2022-02-23",
          "2022-02-24",
          "2022-02-25",
          "2022-02-26",
          "2022-02-27",
          "2022-02-28",
          "2022-03-01",
          "2022-03-02",
          "2022-03-03",
          "2022-03-04",
          "2022-03-05",
          "2022-03-06",
          "2022-03-07",
          "2022-03-08",
          "2022-03-09",
          "2022-03-10",
          "2022-03-11",
          "2022-03-12",
          "2022-03-13",
          "2022-03-14",
          "2022-03-15",
          "2022-03-16",
          "2022-03-17",
          "2022-03-18",
          "2022-03-19",
          "2022-03-20",
          "2022-03-21",
          "2022-03-22",
          "2022-03-23",
          "2022-03-24",
          "2022-03-25",
          "2022-03-26",
          "2022-03-27",
          "2022-03-28",
          "2022-03-29",
          "2022-03-30",
          "2022-03-31",
          "2022-04-01",
          "2022-04-02",
          "2022-04-03",
          "2022-04-04",
          "2022-04-05",
          "2022-04-06",
          "2022-04-07",
          "2022-04-08",
          "2022-04-09",
          "2022-04-10",
          "2022-04-11",
          "2022-04-12",
          "2022-04-13",
          "2022-04-14",
          "2022-04-15",
          "2022-04-16",
          "2022-04-17",
          "2022-04-18",
          "2022-04-19",
          "2022-04-20",
          "2022-04-21",
          "2022-04-22",
          "2022-04-23",
          "2022-04-24",
          "2022-04-25",
          "2022-04-26",
          "2022-04-27",
          "2022-04-28",
          "2022-04-29",
          "2022-04-30",
          "2022-05-01",
          "2022-05-02",
          "2022-05-03",
          "2022-05-04",
          "2022-05-05",
          "2022-05-06",
          "2022-05-07",
          "2022-05-08",
          "2022-05-09",
          "2022-05-10",
          "2022-05-11",
          "2022-05-12",
          "2022-05-13",
          "2022-05-14",
          "2022-05-15",
          "2022-05-16",
          "2022-05-17",
          "2022-05-18",
          "2022-05-19",
          "2022-05-20",
          "2022-05-21",
          "2022-05-22",
          "2022-05-23",
          "2022-05-24",
          "2022-05-25",
          "2022-05-26",
          "2022-05-27",
          "2022-05-28",
          "2022-05-29",
          "2022-05-30",
          "2022-05-31",
          "2022-06-01",
          "2022-06-02",
          "2022-06-03",
          "2022-06-04",
          "2022-06-05",
          "2022-06-06",
          "2022-06-07",
          "2022-06-08",
          "2022-06-09",
          "2022-06-10",
          "2022-06-11",
          "2022-06-12",
          "2022-06-13",
          "2022-06-14",
          "2022-06-15",
          "2022-06-16",
          "2022-06-17",
          "2022-06-18",
          "2022-06-19",
          "2022-06-20",
          "2022-06-21",
          "2022-06-22",
          "2022-06-23",
          "2022-06-24",
          "2022-06-25",
          "2022-06-26",
          "2022-06-27",
          "2022-06-28",
          "2022-06-29",
          "2022-06-30",
          "2022-07-01",
          "2022-07-02",
          "2022-07-03",
          "2022-07-04",
          "2022-07-05",
          "2022-07-06",
          "2022-07-07",
          "2022-07-08",
          "2022-07-09",
          "2022-07-10",
          "2022-07-11",
          "2022-07-12",
          "2022-07-13",
          "2022-07-14",
          "2022-07-15",
          "2022-07-16",
          "2022-07-17",
          "2022-07-18",
          "2022-07-19",
          "2022-07-20",
          "2022-07-21",
          "2022-07-22",
          "2022-07-23",
          "2022-07-24",
          "2022-07-25",
          "2022-07-26",
          "2022-07-27",
          "2022-07-28",
          "2022-07-29",
          "2022-07-30",
          "2022-07-31",
          "2022-08-01",
          "2022-08-02",
          "2022-08-03",
          "2022-08-04",
          "2022-08-05",
          "2022-08-06",
          "2022-08-07",
          "2022-08-08",
          "2022-08-09",
          "2022-08-10",
          "2022-08-11",
          "2022-08-12",
          "2022-08-13",
          "2022-08-14",
          "2022-08-15",
          "2022-08-16",
          "2022-08-17",
          "2022-08-18",
          "2022-08-19",
          "2022-08-20",
          "2022-08-21",
          "2022-08-22",
          "2022-08-23",
          "2022-08-24",
          "2022-08-25",
          "2022-08-26",
          "2022-08-27",
          "2022-08-28",
          "2022-08-29",
          "2022-08-30",
          "2022-08-31",
          "2022-09-01",
          "2022-09-02",
          "2022-09-03",
          "2022-09-04",
          "2022-09-05",
          "2022-09-06",
          "2022-09-07",
          "2022-09-08",
          "2022-09-09",
          "2022-09-10",
          "2022-09-11",
          "2022-09-12",
          "2022-09-13",
          "2022-09-14",
          "2022-09-15",
          "2022-09-16",
          "2022-09-17",
          "2022-09-18",
          "2022-09-19",
          "2022-09-20",
          "2022-09-21",
          "2022-09-22",
          "2022-09-23",
          "2022-09-24",
          "2022-09-25",
          "2022-09-26",
          "2022-09-27",
          "2022-09-28",
          "2022-09-29",
          "2022-09-30",
          "2022-10-01",
          "2022-10-02",
          "2022-10-03",
          "2022-10-04",
          "2022-10-05",
          "2022-10-06",
          "2022-10-07",
          "2022-10-08",
          "2022-10-09",
          "2022-10-10",
          "2022-10-11",
          "2022-10-12",
          "2022-10-13",
          "2022-10-14",
          "2022-10-15",
          "2022-10-16",
          "2022-10-17",
          "2022-10-18",
          "2022-10-19",
          "2022-10-20",
          "2022-10-21",
          "2022-10-22",
          "2022-10-23",
          "2022-10-24",
          "2022-10-25",
          "2022-10-26",
          "2022-10-27",
          "2022-10-28",
          "2022-10-29",
          "2022-10-30",
          "2022-10-31",
          "2022-11-01",
          "2022-11-02",
          "2022-11-03",
          "2022-11-04",
          "2022-11-05",
          "2022-11-06",
          "2022-11-07",
          "2022-11-08",
          "2022-11-09",
          "2022-11-10",
          "2022-11-11",
          "2022-11-12",
          "2022-11-13",
          "2022-11-14",
          "2022-11-15",
          "2022-11-16",
          "2022-11-17",
          "2022-11-18",
          "2022-11-19",
          "2022-11-20",
          "2022-11-21",
          "2022-11-22",
          "2022-11-23",
          "2022-11-24",
          "2022-11-25",
          "2022-11-26",
          "2022-11-27",
          "2022-11-28",
          "2022-11-29",
          "2022-11-30",
          "2022-12-01",
          "2022-12-02",
          "2022-12-03",
          "2022-12-04",
          "2022-12-05",
          "2022-12-06",
          "2022-12-07",
          "2022-12-08",
          "2022-12-09",
          "2022-12-10",
          "2022-12-11",
          "2022-12-12",
          "2022-12-13",
          "2022-12-14",
          "2022-12-15",
          "2022-12-16",
          "2022-12-17",
          "2022-12-18",
          "2022-12-19",
          "2022-12-20",
          "2022-12-21",
          "2022-12-22",
          "2022-12-23",
          "2022-12-24",
          "2022-12-25",
          "2022-12-26",
          "2022-12-27",
          "2022-12-28",
          "2022-12-29",
          "2022-12-30",
          "2022-12-31",
          "2023-01-01"
         ],
         "xaxis": "x",
         "y": [
          2.0036111357,
          0.4696073352,
          0.8282434734,
          5.3078935634,
          0.2846820256,
          0.7853978464,
          1.6795174973,
          7.7090067609,
          4.6167139288,
          0.2657315016,
          0.2393365679,
          1.1379861627,
          3.1524602401,
          3.621852964,
          1.8921780012,
          8.0018638938,
          1.2736034272,
          5.1524339535,
          2.3987417757,
          4.7008625255,
          7.8664268141,
          11.0528663598,
          0.2399166058,
          0.2633335889,
          0.2573361814,
          1.2712414581,
          0.4814623825,
          0.7322712995,
          2.0295009529,
          3.1369184453,
          3.5558560798,
          0.5461367056,
          0.7100933981,
          2.7359105988,
          3.9340899991,
          0.2181429921,
          7.3608381848,
          4.026307156,
          0.7456262919,
          1.7909866921,
          0.0828175554,
          1.6000261642,
          0.1325887828,
          0.2181647761,
          0.8288447507,
          0.5837837755,
          1.7364040015,
          6.3967981179,
          2.231029755,
          2.8326764105,
          24.1007229929,
          2.3133377982,
          2.3677322128,
          1.102948427,
          0.5788303662,
          2.8338133408,
          1.6896970438,
          0.3418043027,
          1.040477361,
          1.0067859543,
          0.6749530442,
          0.3785133769,
          0.7329748449,
          1.0195551127,
          1.5166916667,
          1.9573832704,
          0.2649985867,
          0.2052542551,
          3.3103831925,
          3.4498734188,
          13.8259880762,
          0.8654966419,
          4.7385571701,
          0.4902284197,
          2.2665635435,
          5.3595930638,
          7.0232206891,
          1.368724897,
          2.0846662488,
          2.7830556872,
          4.9064572334,
          1.7601101283,
          0.795391023,
          0.0386003144,
          0.6837099399,
          2.0207493476,
          0.3907177073,
          3.8799909911,
          0.3800290765,
          1.2246159959,
          0.1375561572,
          7.9780358933,
          8.6976427921,
          3.2245766,
          5.8323730441,
          0.3275881032,
          0.5785458905,
          0.0492790646,
          0.5870113863,
          1.1063822078,
          1.5192413672,
          4.7712557321,
          1.4545664217,
          2.8875256828,
          5.5643967791,
          2.1323724308,
          4.2386035948,
          3.7827504827,
          3.3804657826,
          7.0566022573,
          0.6394099586,
          4.5314314749,
          8.4449620071,
          3.6863096805,
          2.1628181771,
          0.521789818,
          4.4732109341,
          1.541204774,
          3.8470176784,
          4.2095517911,
          2.2780595438,
          3.3545086684,
          1.0692116629,
          4.2363556027,
          0.8267006994,
          0.4007097558,
          1.0016893152,
          3.2448714302,
          0.984947222,
          0.1808737968,
          4.8986889034,
          2.1363976083,
          2.5901205564,
          3.5421595843,
          2.4467635145,
          5.6679512243,
          1.7072293905,
          6.8712741382,
          1.0324479731,
          1.4942299898,
          28.1309176204,
          0.1566220586,
          7.0805981891,
          2.1041323145,
          0.0453141821,
          1.1178388413,
          6.1492990852,
          1.950709742,
          3.4747194323,
          0.1053173543,
          3.9478494737,
          19.4042800131,
          2.2829202155,
          5.2067215487,
          2.9865465275,
          7.0067411709,
          2.9209395769,
          17.7242867299,
          0.4330458476,
          4.6596486368,
          5.8169016194,
          7.1686037986,
          3.1448391466,
          4.5755682318,
          24.7445003323,
          1.8004280722,
          7.4668896599,
          5.3374491999,
          7.4073015507,
          1.2312624888,
          7.9523581978,
          1.2214291523,
          9.1738626605,
          10.129543662,
          13.2048562162,
          1.9860621787,
          2.1117670619,
          3.3482339039,
          0.9286963049,
          27.8014225225,
          27.9527734755,
          0.3919455858,
          0.8259142192,
          8.5508800552,
          19.5562666699,
          6.4818232483,
          0.3537245853,
          0.2314111208,
          12.019011578,
          28.7913385193,
          0.9984979592,
          3.9105015448,
          5.0845595608,
          16.0652736949,
          6.1128057893,
          0.9012971677,
          8.8584082453,
          1.9577948713,
          22.472005239,
          1.9652669778,
          1.3822201239,
          8.2861960528,
          20.0330241363,
          5.9765959222,
          12.899612662,
          5.0138513031,
          7.5493493742,
          21.2488367121,
          10.0143469525,
          4.5305948137,
          5.2616379235,
          4.0682161099,
          1.0577646377,
          7.1182847036,
          3.2642592291,
          1.9216644735,
          2.6418130548,
          2.4562197544,
          4.3887425016,
          0.6357632003,
          4.0183323837,
          2.6474712932,
          0.4258554938,
          1.7727742567,
          2.1182442231,
          11.0936550715,
          2.2745088685,
          0.7774995515,
          3.9264316783,
          7.1720079765,
          3.5238372953,
          0.4806294946,
          4.1419472477,
          1.3104347252,
          3.3298926317,
          3.2196484368,
          4.5566158017,
          3.6385065208,
          1.9904628579,
          1.6494837409,
          1.4315208169,
          10.7333524573,
          0.3651312323,
          0.0858125831,
          1.3058958343,
          0.6888177044,
          9.3595979848,
          2.9232209063,
          12.1040810933,
          1.9039898695,
          6.4846191858,
          5.9441619969,
          3.8745433573,
          5.9531109808,
          1.6360903542,
          6.700522666,
          2.6272515011,
          5.5449384156,
          1.3288836726,
          0.1446777358,
          1.9464465354,
          0.0388012718,
          1.7657230093,
          1.1660623544,
          1.7341756928,
          0.6427009375,
          0.4384884244,
          2.7205256488,
          1.2074430852,
          1.3476657596,
          10.7659994379,
          2.8216432813,
          1.11026435,
          0.9833142,
          1.1678950112,
          4.253219414,
          2.806489514,
          1.2073862134,
          0.9678969241,
          7.1177458608,
          3.1830221418,
          4.5278054114,
          2.3042381157,
          2.9518338013,
          0.4342330756,
          0.4393166054,
          1.6517067592,
          0.5465687679,
          0.1680946022,
          0.4367526675,
          1.0065056798,
          3.7445903607,
          0.0443218042,
          1.2098469885,
          0.5950595629,
          1.8631661867,
          0.2462478142,
          2.2474272331,
          0.5844494323,
          0.1967977452,
          0.8494119587,
          0.1001915013,
          0.3134913267,
          0.4672066217,
          2.9404841039,
          4.1023666922,
          1.5305622786,
          3.0974003243,
          7.5082756811,
          1.7044076623,
          7.9990057941,
          2.9954805349,
          5.5932813128,
          2.7301503646,
          3.5127570193,
          8.1223140872,
          1.1797173825,
          1.8805421943,
          4.2525581918,
          2.4938336815,
          3.0711236077,
          1.3000266412,
          1.9007997194,
          0.5127594942,
          2.2818940335,
          0.6912887102,
          0.3973246,
          1.5198808443,
          2.4169193178,
          5.1870181152,
          0.1258137643,
          0.2042505962,
          0.7705149009,
          1.8284151051,
          0.394001762,
          0.9814126124,
          7.1416123723,
          3.5208288082,
          5.8077110665,
          4.3789905828,
          3.3325044555,
          4.9389833128,
          6.8107602479,
          3.5356383883,
          2.6771495425,
          23.8406765707,
          1.523974019,
          0.5420488602,
          1.7844157819,
          13.5210060467,
          0.0718382249,
          0.6857481832,
          2.5592066486,
          2.6787811641,
          5.339228058,
          0.9476719583,
          0.549755417,
          0.5979286713,
          1.5642356357,
          0.3683676345,
          0.782303118,
          6.7621749259,
          5.9345815882,
          8.1194117971,
          3.8608533192,
          4.6453100968
         ],
         "yaxis": "y"
        }
       ],
       "layout": {
        "legend": {
         "tracegroupgap": 0
        },
        "template": {
         "data": {
          "bar": [
           {
            "error_x": {
             "color": "#2a3f5f"
            },
            "error_y": {
             "color": "#2a3f5f"
            },
            "marker": {
             "line": {
              "color": "#E5ECF6",
              "width": 0.5
             },
             "pattern": {
              "fillmode": "overlay",
              "size": 10,
              "solidity": 0.2
             }
            },
            "type": "bar"
           }
          ],
          "barpolar": [
           {
            "marker": {
             "line": {
              "color": "#E5ECF6",
              "width": 0.5
             },
             "pattern": {
              "fillmode": "overlay",
              "size": 10,
              "solidity": 0.2
             }
            },
            "type": "barpolar"
           }
          ],
          "carpet": [
           {
            "aaxis": {
             "endlinecolor": "#2a3f5f",
             "gridcolor": "white",
             "linecolor": "white",
             "minorgridcolor": "white",
             "startlinecolor": "#2a3f5f"
            },
            "baxis": {
             "endlinecolor": "#2a3f5f",
             "gridcolor": "white",
             "linecolor": "white",
             "minorgridcolor": "white",
             "startlinecolor": "#2a3f5f"
            },
            "type": "carpet"
           }
          ],
          "choropleth": [
           {
            "colorbar": {
             "outlinewidth": 0,
             "ticks": ""
            },
            "type": "choropleth"
           }
          ],
          "contour": [
           {
            "colorbar": {
             "outlinewidth": 0,
             "ticks": ""
            },
            "colorscale": [
             [
              0,
              "#0d0887"
             ],
             [
              0.1111111111111111,
              "#46039f"
             ],
             [
              0.2222222222222222,
              "#7201a8"
             ],
             [
              0.3333333333333333,
              "#9c179e"
             ],
             [
              0.4444444444444444,
              "#bd3786"
             ],
             [
              0.5555555555555556,
              "#d8576b"
             ],
             [
              0.6666666666666666,
              "#ed7953"
             ],
             [
              0.7777777777777778,
              "#fb9f3a"
             ],
             [
              0.8888888888888888,
              "#fdca26"
             ],
             [
              1,
              "#f0f921"
             ]
            ],
            "type": "contour"
           }
          ],
          "contourcarpet": [
           {
            "colorbar": {
             "outlinewidth": 0,
             "ticks": ""
            },
            "type": "contourcarpet"
           }
          ],
          "heatmap": [
           {
            "colorbar": {
             "outlinewidth": 0,
             "ticks": ""
            },
            "colorscale": [
             [
              0,
              "#0d0887"
             ],
             [
              0.1111111111111111,
              "#46039f"
             ],
             [
              0.2222222222222222,
              "#7201a8"
             ],
             [
              0.3333333333333333,
              "#9c179e"
             ],
             [
              0.4444444444444444,
              "#bd3786"
             ],
             [
              0.5555555555555556,
              "#d8576b"
             ],
             [
              0.6666666666666666,
              "#ed7953"
             ],
             [
              0.7777777777777778,
              "#fb9f3a"
             ],
             [
              0.8888888888888888,
              "#fdca26"
             ],
             [
              1,
              "#f0f921"
             ]
            ],
            "type": "heatmap"
           }
          ],
          "heatmapgl": [
           {
            "colorbar": {
             "outlinewidth": 0,
             "ticks": ""
            },
            "colorscale": [
             [
              0,
              "#0d0887"
             ],
             [
              0.1111111111111111,
              "#46039f"
             ],
             [
              0.2222222222222222,
              "#7201a8"
             ],
             [
              0.3333333333333333,
              "#9c179e"
             ],
             [
              0.4444444444444444,
              "#bd3786"
             ],
             [
              0.5555555555555556,
              "#d8576b"
             ],
             [
              0.6666666666666666,
              "#ed7953"
             ],
             [
              0.7777777777777778,
              "#fb9f3a"
             ],
             [
              0.8888888888888888,
              "#fdca26"
             ],
             [
              1,
              "#f0f921"
             ]
            ],
            "type": "heatmapgl"
           }
          ],
          "histogram": [
           {
            "marker": {
             "pattern": {
              "fillmode": "overlay",
              "size": 10,
              "solidity": 0.2
             }
            },
            "type": "histogram"
           }
          ],
          "histogram2d": [
           {
            "colorbar": {
             "outlinewidth": 0,
             "ticks": ""
            },
            "colorscale": [
             [
              0,
              "#0d0887"
             ],
             [
              0.1111111111111111,
              "#46039f"
             ],
             [
              0.2222222222222222,
              "#7201a8"
             ],
             [
              0.3333333333333333,
              "#9c179e"
             ],
             [
              0.4444444444444444,
              "#bd3786"
             ],
             [
              0.5555555555555556,
              "#d8576b"
             ],
             [
              0.6666666666666666,
              "#ed7953"
             ],
             [
              0.7777777777777778,
              "#fb9f3a"
             ],
             [
              0.8888888888888888,
              "#fdca26"
             ],
             [
              1,
              "#f0f921"
             ]
            ],
            "type": "histogram2d"
           }
          ],
          "histogram2dcontour": [
           {
            "colorbar": {
             "outlinewidth": 0,
             "ticks": ""
            },
            "colorscale": [
             [
              0,
              "#0d0887"
             ],
             [
              0.1111111111111111,
              "#46039f"
             ],
             [
              0.2222222222222222,
              "#7201a8"
             ],
             [
              0.3333333333333333,
              "#9c179e"
             ],
             [
              0.4444444444444444,
              "#bd3786"
             ],
             [
              0.5555555555555556,
              "#d8576b"
             ],
             [
              0.6666666666666666,
              "#ed7953"
             ],
             [
              0.7777777777777778,
              "#fb9f3a"
             ],
             [
              0.8888888888888888,
              "#fdca26"
             ],
             [
              1,
              "#f0f921"
             ]
            ],
            "type": "histogram2dcontour"
           }
          ],
          "mesh3d": [
           {
            "colorbar": {
             "outlinewidth": 0,
             "ticks": ""
            },
            "type": "mesh3d"
           }
          ],
          "parcoords": [
           {
            "line": {
             "colorbar": {
              "outlinewidth": 0,
              "ticks": ""
             }
            },
            "type": "parcoords"
           }
          ],
          "pie": [
           {
            "automargin": true,
            "type": "pie"
           }
          ],
          "scatter": [
           {
            "fillpattern": {
             "fillmode": "overlay",
             "size": 10,
             "solidity": 0.2
            },
            "type": "scatter"
           }
          ],
          "scatter3d": [
           {
            "line": {
             "colorbar": {
              "outlinewidth": 0,
              "ticks": ""
             }
            },
            "marker": {
             "colorbar": {
              "outlinewidth": 0,
              "ticks": ""
             }
            },
            "type": "scatter3d"
           }
          ],
          "scattercarpet": [
           {
            "marker": {
             "colorbar": {
              "outlinewidth": 0,
              "ticks": ""
             }
            },
            "type": "scattercarpet"
           }
          ],
          "scattergeo": [
           {
            "marker": {
             "colorbar": {
              "outlinewidth": 0,
              "ticks": ""
             }
            },
            "type": "scattergeo"
           }
          ],
          "scattergl": [
           {
            "marker": {
             "colorbar": {
              "outlinewidth": 0,
              "ticks": ""
             }
            },
            "type": "scattergl"
           }
          ],
          "scattermapbox": [
           {
            "marker": {
             "colorbar": {
              "outlinewidth": 0,
              "ticks": ""
             }
            },
            "type": "scattermapbox"
           }
          ],
          "scatterpolar": [
           {
            "marker": {
             "colorbar": {
              "outlinewidth": 0,
              "ticks": ""
             }
            },
            "type": "scatterpolar"
           }
          ],
          "scatterpolargl": [
           {
            "marker": {
             "colorbar": {
              "outlinewidth": 0,
              "ticks": ""
             }
            },
            "type": "scatterpolargl"
           }
          ],
          "scatterternary": [
           {
            "marker": {
             "colorbar": {
              "outlinewidth": 0,
              "ticks": ""
             }
            },
            "type": "scatterternary"
           }
          ],
          "surface": [
           {
            "colorbar": {
             "outlinewidth": 0,
             "ticks": ""
            },
            "colorscale": [
             [
              0,
              "#0d0887"
             ],
             [
              0.1111111111111111,
              "#46039f"
             ],
             [
              0.2222222222222222,
              "#7201a8"
             ],
             [
              0.3333333333333333,
              "#9c179e"
             ],
             [
              0.4444444444444444,
              "#bd3786"
             ],
             [
              0.5555555555555556,
              "#d8576b"
             ],
             [
              0.6666666666666666,
              "#ed7953"
             ],
             [
              0.7777777777777778,
              "#fb9f3a"
             ],
             [
              0.8888888888888888,
              "#fdca26"
             ],
             [
              1,
              "#f0f921"
             ]
            ],
            "type": "surface"
           }
          ],
          "table": [
           {
            "cells": {
             "fill": {
              "color": "#EBF0F8"
             },
             "line": {
              "color": "white"
             }
            },
            "header": {
             "fill": {
              "color": "#C8D4E3"
             },
             "line": {
              "color": "white"
             }
            },
            "type": "table"
           }
          ]
         },
         "layout": {
          "annotationdefaults": {
           "arrowcolor": "#2a3f5f",
           "arrowhead": 0,
           "arrowwidth": 1
          },
          "autotypenumbers": "strict",
          "coloraxis": {
           "colorbar": {
            "outlinewidth": 0,
            "ticks": ""
           }
          },
          "colorscale": {
           "diverging": [
            [
             0,
             "#8e0152"
            ],
            [
             0.1,
             "#c51b7d"
            ],
            [
             0.2,
             "#de77ae"
            ],
            [
             0.3,
             "#f1b6da"
            ],
            [
             0.4,
             "#fde0ef"
            ],
            [
             0.5,
             "#f7f7f7"
            ],
            [
             0.6,
             "#e6f5d0"
            ],
            [
             0.7,
             "#b8e186"
            ],
            [
             0.8,
             "#7fbc41"
            ],
            [
             0.9,
             "#4d9221"
            ],
            [
             1,
             "#276419"
            ]
           ],
           "sequential": [
            [
             0,
             "#0d0887"
            ],
            [
             0.1111111111111111,
             "#46039f"
            ],
            [
             0.2222222222222222,
             "#7201a8"
            ],
            [
             0.3333333333333333,
             "#9c179e"
            ],
            [
             0.4444444444444444,
             "#bd3786"
            ],
            [
             0.5555555555555556,
             "#d8576b"
            ],
            [
             0.6666666666666666,
             "#ed7953"
            ],
            [
             0.7777777777777778,
             "#fb9f3a"
            ],
            [
             0.8888888888888888,
             "#fdca26"
            ],
            [
             1,
             "#f0f921"
            ]
           ],
           "sequentialminus": [
            [
             0,
             "#0d0887"
            ],
            [
             0.1111111111111111,
             "#46039f"
            ],
            [
             0.2222222222222222,
             "#7201a8"
            ],
            [
             0.3333333333333333,
             "#9c179e"
            ],
            [
             0.4444444444444444,
             "#bd3786"
            ],
            [
             0.5555555555555556,
             "#d8576b"
            ],
            [
             0.6666666666666666,
             "#ed7953"
            ],
            [
             0.7777777777777778,
             "#fb9f3a"
            ],
            [
             0.8888888888888888,
             "#fdca26"
            ],
            [
             1,
             "#f0f921"
            ]
           ]
          },
          "colorway": [
           "#636efa",
           "#EF553B",
           "#00cc96",
           "#ab63fa",
           "#FFA15A",
           "#19d3f3",
           "#FF6692",
           "#B6E880",
           "#FF97FF",
           "#FECB52"
          ],
          "font": {
           "color": "#2a3f5f"
          },
          "geo": {
           "bgcolor": "white",
           "lakecolor": "white",
           "landcolor": "#E5ECF6",
           "showlakes": true,
           "showland": true,
           "subunitcolor": "white"
          },
          "hoverlabel": {
           "align": "left"
          },
          "hovermode": "closest",
          "mapbox": {
           "style": "light"
          },
          "paper_bgcolor": "white",
          "plot_bgcolor": "#E5ECF6",
          "polar": {
           "angularaxis": {
            "gridcolor": "white",
            "linecolor": "white",
            "ticks": ""
           },
           "bgcolor": "#E5ECF6",
           "radialaxis": {
            "gridcolor": "white",
            "linecolor": "white",
            "ticks": ""
           }
          },
          "scene": {
           "xaxis": {
            "backgroundcolor": "#E5ECF6",
            "gridcolor": "white",
            "gridwidth": 2,
            "linecolor": "white",
            "showbackground": true,
            "ticks": "",
            "zerolinecolor": "white"
           },
           "yaxis": {
            "backgroundcolor": "#E5ECF6",
            "gridcolor": "white",
            "gridwidth": 2,
            "linecolor": "white",
            "showbackground": true,
            "ticks": "",
            "zerolinecolor": "white"
           },
           "zaxis": {
            "backgroundcolor": "#E5ECF6",
            "gridcolor": "white",
            "gridwidth": 2,
            "linecolor": "white",
            "showbackground": true,
            "ticks": "",
            "zerolinecolor": "white"
           }
          },
          "shapedefaults": {
           "line": {
            "color": "#2a3f5f"
           }
          },
          "ternary": {
           "aaxis": {
            "gridcolor": "white",
            "linecolor": "white",
            "ticks": ""
           },
           "baxis": {
            "gridcolor": "white",
            "linecolor": "white",
            "ticks": ""
           },
           "bgcolor": "#E5ECF6",
           "caxis": {
            "gridcolor": "white",
            "linecolor": "white",
            "ticks": ""
           }
          },
          "title": {
           "x": 0.05
          },
          "xaxis": {
           "automargin": true,
           "gridcolor": "white",
           "linecolor": "white",
           "ticks": "",
           "title": {
            "standoff": 15
           },
           "zerolinecolor": "white",
           "zerolinewidth": 2
          },
          "yaxis": {
           "automargin": true,
           "gridcolor": "white",
           "linecolor": "white",
           "ticks": "",
           "title": {
            "standoff": 15
           },
           "zerolinecolor": "white",
           "zerolinewidth": 2
          }
         }
        },
        "title": {
         "text": "Miss distance (lunar)"
        },
        "xaxis": {
         "anchor": "y",
         "domain": [
          0,
          1
         ],
         "title": {
          "text": "x"
         }
        },
        "yaxis": {
         "anchor": "x",
         "domain": [
          0,
          1
         ],
         "title": {
          "text": "y"
         }
        }
       }
      }
     },
     "metadata": {},
     "output_type": "display_data"
    }
   ],
   "source": [
    "\n",
    "fig = px.line( y=df_dis_lunar_min, x=df_dis_lunar_min.index,title='Miss distance (lunar)')\n",
    "fig.show()"
   ]
  },
  {
   "attachments": {},
   "cell_type": "markdown",
   "metadata": {},
   "source": [
    "### Task 5: Interpretation of Results\n",
    "\n",
    "- Interpret the results of your data visualization in part A and B. \n",
    "- What insights can you gain about NEOs from your results? Summarizing your findings.\n",
    "- Use your findings to make predictions or recommendations. For example, if you found that larger NEOs are more likely to be potentially hazardous, you could recommend that more resources be allocated to tracking large NEOs. **Be creative!**\n",
    "- Identify, understand, and explain one scientific paper, on a clustering or classification method of relevance that could help Task 5. You don't have to implement it, you just need to justify in this notebook why the method in the scientific paper could contribute in analysis or interpretation of the results."
   ]
  },
  {
   "cell_type": "code",
   "execution_count": 18,
   "metadata": {},
   "outputs": [],
   "source": [
    "# Write your code"
   ]
  },
  {
   "cell_type": "markdown",
   "metadata": {},
   "source": [
    "# New insights\n",
    "\n",
    "- The average NEO size is higher over the summer period. \n",
    "- The average NEO size is really high over the summer. \n",
    "- The number of NEOs decrease over the sommer and is high in the fall.\n",
    "\n",
    "\n"
   ]
  },
  {
   "cell_type": "markdown",
   "metadata": {},
   "source": [
    "# Scientific paper\n",
    "\n",
    "Link to paper: https://www.researchgate.net/publication/285663733_Data_classification_using_support_vector_machine\n",
    "\n",
    "The paper is about the support vector machine (SVM) used for classification. SVM is supervised learning algorithm for classification and regression and SVM can be used for high-dimensional data. First, the SVM maps the input to high dimensional space and then tries to find the hyperplane that separates the data the best. \n",
    "\n",
    "\n",
    "\n",
    "- First, we will make a PCA analysis on all the features to only get the significant components.\n",
    "- Then will use the features to train a classifier using the support vector machine.\n",
    "- We will use cross validation to find the optimal parameter setting when training the classifier.\n",
    "- In the end, we have a classier that can classify if the NEO is hazardous or non-hazardous based on the selected features from the PCA analysis.\n",
    "\n",
    "\n",
    "\n",
    "\n"
   ]
  },
  {
   "attachments": {},
   "cell_type": "markdown",
   "metadata": {},
   "source": [
    "### Task 6: Presentation and Documentation\n",
    "\n",
    "- Make this project as part of your presentation, **using beamer in LaTeX**. \n",
    "- This should include an overview of your work, the results of your data analysis, and the insights you gained from your results."
   ]
  },
  {
   "attachments": {},
   "cell_type": "markdown",
   "metadata": {},
   "source": []
  }
 ],
 "metadata": {
  "kernelspec": {
   "display_name": "base",
   "language": "python",
   "name": "python3"
  },
  "language_info": {
   "codemirror_mode": {
    "name": "ipython",
    "version": 3
   },
   "file_extension": ".py",
   "mimetype": "text/x-python",
   "name": "python",
   "nbconvert_exporter": "python",
   "pygments_lexer": "ipython3",
   "version": "3.9.12"
  },
  "orig_nbformat": 4
 },
 "nbformat": 4,
 "nbformat_minor": 2
}
