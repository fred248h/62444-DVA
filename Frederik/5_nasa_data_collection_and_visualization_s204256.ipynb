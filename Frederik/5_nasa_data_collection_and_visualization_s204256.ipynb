{
 "cells": [
  {
   "attachments": {},
   "cell_type": "markdown",
   "metadata": {},
   "source": [
    "# Project 2：NASA Data Acquisation, Visualization, and Analysis"
   ]
  },
  {
   "cell_type": "code",
   "execution_count": 24,
   "metadata": {},
   "outputs": [],
   "source": [
    "# The code makes sure that once there is change in the 'src/' folder, the \n",
    "# change will be automatically reloaded in the notebook.\n",
    "%reload_ext autoreload\n",
    "%autoreload 2\n",
    "%aimport src"
   ]
  },
  {
   "attachments": {},
   "cell_type": "markdown",
   "metadata": {},
   "source": [
    "### Task 1: Understanding the NASA API and Data Collection\n",
    "\n",
    "- Register for a NASA API key and understand the different types of data that the API provides.\n",
    "- Run the Python script below to fetch data about **Near Earth Objects (NEOs)** from the NASA API for a years data.\n",
    "- Extract and understand the different pieces of data provided for each NEO."
   ]
  },
  {
   "cell_type": "code",
   "execution_count": 32,
   "metadata": {},
   "outputs": [],
   "source": [
    "import requests\n",
    "import time\n",
    "from datetime import datetime, timedelta\n",
    "from getpass import getpass\n",
    "\n",
    "# Set your NASA API KEY, this step asks you to enter your API KEY.\n",
    "# (The input box may be float in the top on your editor.)\n",
    "\n",
    "api_key = getpass()\n",
    "#api_key = 'rlLMa02AyLSCwB4ingUxn8WiN88FErbPtBC1DsA'"
   ]
  },
  {
   "cell_type": "code",
   "execution_count": 33,
   "metadata": {},
   "outputs": [
    {
     "ename": "KeyboardInterrupt",
     "evalue": "",
     "output_type": "error",
     "traceback": [
      "\u001b[0;31m---------------------------------------------------------------------------\u001b[0m",
      "\u001b[0;31mKeyboardInterrupt\u001b[0m                         Traceback (most recent call last)",
      "\u001b[0;32m/var/folders/k5/lp4y93dn53388_0r25x85ly00000gn/T/ipykernel_36310/827011385.py\u001b[0m in \u001b[0;36m<module>\u001b[0;34m\u001b[0m\n\u001b[1;32m     16\u001b[0m     \u001b[0mdata\u001b[0m\u001b[0;34m.\u001b[0m\u001b[0mappend\u001b[0m\u001b[0;34m(\u001b[0m\u001b[0mresponse\u001b[0m\u001b[0;34m.\u001b[0m\u001b[0mjson\u001b[0m\u001b[0;34m(\u001b[0m\u001b[0;34m)\u001b[0m\u001b[0;34m)\u001b[0m\u001b[0;34m\u001b[0m\u001b[0;34m\u001b[0m\u001b[0m\n\u001b[1;32m     17\u001b[0m     \u001b[0mcurrent_date\u001b[0m \u001b[0;34m=\u001b[0m \u001b[0mnext_date\u001b[0m\u001b[0;34m\u001b[0m\u001b[0;34m\u001b[0m\u001b[0m\n\u001b[0;32m---> 18\u001b[0;31m     \u001b[0mtime\u001b[0m\u001b[0;34m.\u001b[0m\u001b[0msleep\u001b[0m\u001b[0;34m(\u001b[0m\u001b[0;36m1\u001b[0m\u001b[0;34m)\u001b[0m  \u001b[0;31m# To avoid hitting the rate limit\u001b[0m\u001b[0;34m\u001b[0m\u001b[0;34m\u001b[0m\u001b[0m\n\u001b[0m\u001b[1;32m     19\u001b[0m \u001b[0;34m\u001b[0m\u001b[0m\n\u001b[1;32m     20\u001b[0m \u001b[0;31m# Now 'data' contains the NEO data for the 1-year period\u001b[0m\u001b[0;34m\u001b[0m\u001b[0;34m\u001b[0m\u001b[0m\n",
      "\u001b[0;31mKeyboardInterrupt\u001b[0m: "
     ]
    }
   ],
   "source": [
    "# Set the start and end dates for the data you want to fetch\n",
    "start_date = datetime.strptime('2022-01-01', '%Y-%m-%d')\n",
    "end_date = start_date + timedelta(days=14)  # 1 year later\n",
    "\n",
    "# Initialize a list to store the data\n",
    "data = []\n",
    "\n",
    "# Fetch data from the NASA API 7 days at a time\n",
    "# The introduction of the API is on https://api.nasa.gov, under \"Browse APIs\" -> \"Asteroids NeoWs\"\n",
    "# You can look into the example query in the link below to see what the data look like:\n",
    "# https://api.nasa.gov/neo/rest/v1/feed?start_date=2015-09-07&end_date=2015-09-08&api_key=DEMO_KEY\n",
    "current_date = start_date\n",
    "while current_date < end_date:\n",
    "    next_date = min(current_date + timedelta(days=7), end_date)\n",
    "    response = requests.get(f'https://api.nasa.gov/neo/rest/v1/feed?start_date={current_date.strftime(\"%Y-%m-%d\")}&end_date={next_date.strftime(\"%Y-%m-%d\")}&api_key={api_key}')\n",
    "    data.append(response.json())\n",
    "    current_date = next_date\n",
    "    time.sleep(1)  # To avoid hitting the rate limit\n",
    "\n",
    "# Now 'data' contains the NEO data for the 1-year period\n"
   ]
  },
  {
   "cell_type": "code",
   "execution_count": 30,
   "metadata": {},
   "outputs": [
    {
     "ename": "KeyError",
     "evalue": "'near_earth_objects'",
     "output_type": "error",
     "traceback": [
      "\u001b[0;31m---------------------------------------------------------------------------\u001b[0m",
      "\u001b[0;31mKeyError\u001b[0m                                  Traceback (most recent call last)",
      "\u001b[0;32m/var/folders/k5/lp4y93dn53388_0r25x85ly00000gn/T/ipykernel_36310/3499450098.py\u001b[0m in \u001b[0;36m<module>\u001b[0;34m\u001b[0m\n\u001b[1;32m      2\u001b[0m \u001b[0mdates_contained_in_data\u001b[0m \u001b[0;34m=\u001b[0m \u001b[0;34m[\u001b[0m\u001b[0;34m]\u001b[0m\u001b[0;34m\u001b[0m\u001b[0;34m\u001b[0m\u001b[0m\n\u001b[1;32m      3\u001b[0m \u001b[0;32mfor\u001b[0m \u001b[0md\u001b[0m \u001b[0;32min\u001b[0m \u001b[0mdata\u001b[0m\u001b[0;34m:\u001b[0m\u001b[0;34m\u001b[0m\u001b[0;34m\u001b[0m\u001b[0m\n\u001b[0;32m----> 4\u001b[0;31m     \u001b[0mdates_contained_in_data\u001b[0m \u001b[0;34m+=\u001b[0m \u001b[0mlist\u001b[0m\u001b[0;34m(\u001b[0m\u001b[0md\u001b[0m\u001b[0;34m[\u001b[0m\u001b[0;34m'near_earth_objects'\u001b[0m\u001b[0;34m]\u001b[0m\u001b[0;34m.\u001b[0m\u001b[0mkeys\u001b[0m\u001b[0;34m(\u001b[0m\u001b[0;34m)\u001b[0m\u001b[0;34m)\u001b[0m\u001b[0;34m\u001b[0m\u001b[0;34m\u001b[0m\u001b[0m\n\u001b[0m\u001b[1;32m      5\u001b[0m \u001b[0;34m\u001b[0m\u001b[0m\n\u001b[1;32m      6\u001b[0m \u001b[0mprint\u001b[0m\u001b[0;34m(\u001b[0m\u001b[0msorted\u001b[0m\u001b[0;34m(\u001b[0m\u001b[0mdates_contained_in_data\u001b[0m\u001b[0;34m)\u001b[0m\u001b[0;34m)\u001b[0m\u001b[0;34m\u001b[0m\u001b[0;34m\u001b[0m\u001b[0m\n",
      "\u001b[0;31mKeyError\u001b[0m: 'near_earth_objects'"
     ]
    }
   ],
   "source": [
    "# Check the date coverage of your data.\n",
    "dates_contained_in_data = []\n",
    "for d in data:\n",
    "    dates_contained_in_data += list(d['near_earth_objects'].keys())\n",
    "\n",
    "print(sorted(dates_contained_in_data))"
   ]
  },
  {
   "cell_type": "code",
   "execution_count": null,
   "metadata": {},
   "outputs": [],
   "source": [
    "from src.utils import get_a_random_chunk_property"
   ]
  },
  {
   "cell_type": "code",
   "execution_count": null,
   "metadata": {},
   "outputs": [
    {
     "name": "stdout",
     "output_type": "stream",
     "text": [
      "date: 2022-10-10\n",
      "NEO name: (2019 SF7)\n",
      "estimated_diameter: {'kilometers': {'estimated_diameter_min': 0.0280902094, 'estimated_diameter_max': 0.0628116177}, 'meters': {'estimated_diameter_min': 28.0902093949, 'estimated_diameter_max': 62.8116177092}, 'miles': {'estimated_diameter_min': 0.0174544415, 'estimated_diameter_max': 0.0390293177}, 'feet': {'estimated_diameter_min': 92.1594825912, 'estimated_diameter_max': 206.074867845}}\n"
     ]
    }
   ],
   "source": [
    "get_a_random_chunk_property(data)"
   ]
  },
  {
   "attachments": {},
   "cell_type": "markdown",
   "metadata": {},
   "source": [
    "For the remaining tasks, you have to organize the data as pd.DataFrame so as to suit the specific need in each task. This part may require a considerably amount of efforts, which is normal in data science and analytics works."
   ]
  },
  {
   "attachments": {},
   "cell_type": "markdown",
   "metadata": {},
   "source": [
    "### Task 2: Data Analysis\n",
    "\n",
    "- Calculate the average size of the NEOs for each day.\n",
    "- Determine the proportion of NEOs that are potentially hazardous.\n",
    "- Find the NEO with the closest approach distance for each day.\n",
    "- Use statistical methods to analyze the data. For example, calculate the mean, median, mode, and standard deviation of the NEO sizes. Determine if the size of a NEO is correlated with whether it is potentially hazardous."
   ]
  },
  {
   "cell_type": "code",
   "execution_count": null,
   "metadata": {},
   "outputs": [],
   "source": [
    "# Write your code"
   ]
  },
  {
   "attachments": {},
   "cell_type": "markdown",
   "metadata": {},
   "source": [
    "### Task 3: Data Visualization Part A\n",
    "\n",
    "- Create a line plot of the number of NEOs per week.\n",
    "- Create a histogram of the distribution of NEO sizes.\n",
    "- Create a bar plot of the average NEO size per week.\n",
    "- Use a library like Seaborn to create more complex visualizations, such as a box plot of the NEO sizes or a heat map of the number of NEOs per week. **Be creative**!"
   ]
  },
  {
   "cell_type": "code",
   "execution_count": null,
   "metadata": {},
   "outputs": [],
   "source": [
    "# Write your code"
   ]
  },
  {
   "attachments": {},
   "cell_type": "markdown",
   "metadata": {},
   "source": [
    "### Task 4: Data Visualization Part B\n",
    "\n",
    "- Create a pie chart of the proportion of hazardous vs non-hazardous NEOs.\n",
    "- Create a scatter plot of the correlation between NEO size and close approach distance.\n",
    "- Customize the appearance of your plots (e.g., colors, labels, titles).\n",
    "- Create interactive visualizations using a library like Plotly. For example, create an interactive scatter plot where you can hover over each point to see more information about the NEO. **Be creative!**"
   ]
  },
  {
   "cell_type": "code",
   "execution_count": null,
   "metadata": {},
   "outputs": [],
   "source": [
    "# Write your code"
   ]
  },
  {
   "attachments": {},
   "cell_type": "markdown",
   "metadata": {},
   "source": [
    "### Task 5: Interpretation of Results\n",
    "\n",
    "- Interpret the results of your data visualization in part A and B. \n",
    "- What insights can you gain about NEOs from your results? Summarizing your findings.\n",
    "- Use your findings to make predictions or recommendations. For example, if you found that larger NEOs are more likely to be potentially hazardous, you could recommend that more resources be allocated to tracking large NEOs. **Be creative!**\n",
    "- Identify, understand, and explain one scientific paper, on a clustering or classification method of relevance that could help Task 5. You don't have to implement it, you just need to justify in this notebook why the method in the scientific paper could contribute in analysis or interpretation of the results."
   ]
  },
  {
   "cell_type": "code",
   "execution_count": null,
   "metadata": {},
   "outputs": [],
   "source": [
    "# Write your code"
   ]
  },
  {
   "attachments": {},
   "cell_type": "markdown",
   "metadata": {},
   "source": [
    "### Task 6: Presentation and Documentation\n",
    "\n",
    "- Make this project as part of your presentation, **using beamer in LaTeX**. \n",
    "- This should include an overview of your work, the results of your data analysis, and the insights you gained from your results."
   ]
  },
  {
   "attachments": {},
   "cell_type": "markdown",
   "metadata": {},
   "source": []
  }
 ],
 "metadata": {
  "kernelspec": {
   "display_name": "base",
   "language": "python",
   "name": "python3"
  },
  "language_info": {
   "codemirror_mode": {
    "name": "ipython",
    "version": 3
   },
   "file_extension": ".py",
   "mimetype": "text/x-python",
   "name": "python",
   "nbconvert_exporter": "python",
   "pygments_lexer": "ipython3",
   "version": "3.9.12"
  },
  "orig_nbformat": 4
 },
 "nbformat": 4,
 "nbformat_minor": 2
}
