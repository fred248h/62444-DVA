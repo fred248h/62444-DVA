{
 "cells": [
  {
   "cell_type": "markdown",
   "metadata": {},
   "source": [
    "### Project 5"
   ]
  },
  {
   "cell_type": "code",
   "execution_count": 1,
   "metadata": {},
   "outputs": [],
   "source": [
    "\n",
    "import json\n",
    "import pandas as pd\n",
    "import numpy as np\n",
    "import math\n",
    "import requests\n",
    "import time\n",
    "from datetime import datetime, timedelta\n",
    "from getpass import getpass\n",
    "\n",
    "\n",
    "\n",
    "# The code makes sure that once there is change in the 'src/' folder, the \n",
    "# change will be automatically reloaded in the notebook.\n",
    "%reload_ext autoreload\n",
    "%autoreload 2\n",
    "%aimport src"
   ]
  },
  {
   "cell_type": "markdown",
   "metadata": {},
   "source": [
    "### Load data from NASA\n"
   ]
  },
  {
   "cell_type": "code",
   "execution_count": 2,
   "metadata": {},
   "outputs": [
    {
     "name": "stdout",
     "output_type": "stream",
     "text": [
      "5moAl3aXJFGab03t4Rwyvnsb9UKRUSq5Tpu2aZYm\n"
     ]
    }
   ],
   "source": [
    "\n",
    "\n",
    "# Set your NASA API KEY, this step asks you to enter your API KEY.\n",
    "# (The input box may be float in the top on your editor.)\n",
    "\n",
    "api_key = getpass()\n",
    "\n",
    "print(api_key)\n",
    "#1yBDwWKaSn67OnwDtagWVRciQLajbITVUXztCnll"
   ]
  },
  {
   "cell_type": "code",
   "execution_count": 3,
   "metadata": {},
   "outputs": [],
   "source": [
    "# Set the start and end dates for the data you want to fetch\n",
    "start_date = datetime.strptime('2022-01-01', '%Y-%m-%d')\n",
    "end_date = start_date + timedelta(days=365)  # 1 year later\n",
    "\n",
    "# Initialize a list to store the data\n",
    "data = []\n",
    "\n",
    "# Fetch data from the NASA API 7 days at a time\n",
    "# The introduction of the API is on https://api.nasa.gov, under \"Browse APIs\" -> \"Asteroids NeoWs\"\n",
    "# You can look into the example query in the link below to see what the data look like:\n",
    "# https://api.nasa.gov/neo/rest/v1/feed?start_date=2015-09-07&end_date=2015-09-08&api_key=DEMO_KEY\n",
    "current_date = start_date\n",
    "while current_date < end_date:\n",
    "    next_date = min(current_date + timedelta(days=7), end_date)\n",
    "    response = requests.get(f'https://api.nasa.gov/neo/rest/v1/feed?start_date={current_date.strftime(\"%Y-%m-%d\")}&end_date={next_date.strftime(\"%Y-%m-%d\")}&api_key={api_key}')\n",
    "    data.append(response.json())\n",
    "    current_date = next_date\n",
    "    time.sleep(1)  # To avoid hitting the rate limit\n",
    "\n",
    "# Now 'data' contains the NEO data for the 1-year period"
   ]
  },
  {
   "cell_type": "markdown",
   "metadata": {},
   "source": [
    "### Understanding of the data"
   ]
  },
  {
   "cell_type": "code",
   "execution_count": 4,
   "metadata": {},
   "outputs": [],
   "source": [
    "# Save as json file in data.json\n",
    "\"\"\"\n",
    "jsonString = json.dumps(data)\n",
    "jsonFile = open(\"data.json\", \"w\")\n",
    "jsonFile.write(jsonString)\n",
    "jsonFile.close()\n",
    "\"\"\"\n",
    "\n",
    "\n",
    "\n",
    "df = pd.read_json('data.json')"
   ]
  },
  {
   "cell_type": "markdown",
   "metadata": {},
   "source": [
    "### Task 3: Data Visualization Part A"
   ]
  },
  {
   "cell_type": "code",
   "execution_count": 5,
   "metadata": {},
   "outputs": [
    {
     "ename": "NameError",
     "evalue": "name 'dates_contained_in_data' is not defined",
     "output_type": "error",
     "traceback": [
      "\u001b[0;31m---------------------------------------------------------------------------\u001b[0m",
      "\u001b[0;31mNameError\u001b[0m                                 Traceback (most recent call last)",
      "\u001b[0;32m/var/folders/k5/lp4y93dn53388_0r25x85ly00000gn/T/ipykernel_66077/2298013012.py\u001b[0m in \u001b[0;36m<module>\u001b[0;34m\u001b[0m\n\u001b[1;32m      1\u001b[0m \u001b[0;31m#Empty dataframe\u001b[0m\u001b[0;34m\u001b[0m\u001b[0;34m\u001b[0m\u001b[0m\n\u001b[0;32m----> 2\u001b[0;31m \u001b[0mdf_data2\u001b[0m \u001b[0;34m=\u001b[0m \u001b[0mpd\u001b[0m\u001b[0;34m.\u001b[0m\u001b[0mDataFrame\u001b[0m\u001b[0;34m(\u001b[0m\u001b[0mindex\u001b[0m \u001b[0;34m=\u001b[0m \u001b[0mdates_contained_in_data\u001b[0m\u001b[0;34m)\u001b[0m\u001b[0;34m\u001b[0m\u001b[0;34m\u001b[0m\u001b[0m\n\u001b[0m\u001b[1;32m      3\u001b[0m \u001b[0;34m\u001b[0m\u001b[0m\n\u001b[1;32m      4\u001b[0m \u001b[0mcount\u001b[0m \u001b[0;34m=\u001b[0m \u001b[0;36m0\u001b[0m\u001b[0;34m\u001b[0m\u001b[0;34m\u001b[0m\u001b[0m\n\u001b[1;32m      5\u001b[0m \u001b[0;32mfor\u001b[0m \u001b[0mdate\u001b[0m \u001b[0;32min\u001b[0m \u001b[0mdates_contained_in_data\u001b[0m\u001b[0;34m:\u001b[0m\u001b[0;34m\u001b[0m\u001b[0;34m\u001b[0m\u001b[0m\n",
      "\u001b[0;31mNameError\u001b[0m: name 'dates_contained_in_data' is not defined"
     ]
    }
   ],
   "source": []
  },
  {
   "cell_type": "code",
   "execution_count": null,
   "metadata": {},
   "outputs": [],
   "source": []
  },
  {
   "cell_type": "code",
   "execution_count": null,
   "metadata": {},
   "outputs": [],
   "source": [
    "# Not using this code\n",
    "\n",
    "\n",
    "dfc = data[0][\"near_earth_objects\"][dates_contained_in_data[1]]\n",
    "\n",
    "dfcc = dfc[0]['estimated_diameter']\n",
    "\n",
    "print(dfcc.keys())\n",
    "\n",
    "dfccc = dfcc['kilometers']\n",
    "\n",
    "print()\n",
    "\n",
    "\"\"\"\n",
    "for i in range(0, len(dfc)):\n",
    "    ld = list(dfc[i].keys())\n",
    "    \n",
    "    for j in range(0, len(ld)):\n",
    "        new_dict = dfc[i][ld[j]]\n",
    "        \n",
    "        print(new_dict)\n",
    "\n",
    "\n",
    "\"\"\"\n",
    "\n",
    "\n",
    "\n",
    "columns = ['id','neo_reference_id', 'name', 'absolute_magnitude_h', 'is_potentially_hazardous_asteroid' ]\n",
    "\n",
    "df_data = pd.DataFrame(columns=columns,index = dates_contained_in_data)\n",
    "\n",
    "\n",
    "count = 0\n",
    "for date in dates_contained_in_data:\n",
    "    week = math.floor(count/8)\n",
    "    data_list = data[week][\"near_earth_objects\"][date]\n",
    "    count += 1\n",
    "    \n",
    "    length = len(data_list)\n",
    "\n",
    "    for i in range(0,length):\n",
    "        #print(data_list[i]['id'])\n",
    "\n",
    "        for col in columns:\n",
    "            #Save date to pandas dataframe\n",
    "            #print(col)\n",
    "            df_data.loc[date, col] = data_list[i][col]\n",
    "\n",
    "\n",
    "\n",
    "\n",
    "#Empty dataframe \n",
    "df_data2 = pd.DataFrame(index = dates_contained_in_data)\n",
    "\n",
    "count = 0\n",
    "for date in dates_contained_in_data:\n",
    "    week = math.floor(count/8)\n",
    "    data_list = data[week][\"near_earth_objects\"][date]\n",
    "    count += 1\n",
    "    for i in range(0,len(data_list)):\n",
    "\n",
    "        dict_list = list(data_list[i].keys())\n",
    "\n",
    "        for dict in dict_list:\n",
    "        \n",
    "            try:\n",
    "                data_list[i][dict].keys()\n",
    "                dict_list_end = list(data_list[i][dict].keys())\n",
    "\n",
    "                for dict_end in dict_list_end:\n",
    "                    #print(dict_end)\n",
    "                    print(data_list[i][dict][dict_end])\n",
    "\n",
    "                    break\n",
    "            except:\n",
    "                #df_data2.loc[date, dict] = data_list[i][dict]\n",
    "                print(data_list[i][dict])\n",
    "                break"
   ]
  }
 ],
 "metadata": {
  "interpreter": {
   "hash": "846f76d6039d9c9f8c9ef649e2e6984cae7ef927a8cdd638a38bd6d51d7abd88"
  },
  "kernelspec": {
   "display_name": "Python 3.9.12 ('course02502')",
   "language": "python",
   "name": "python3"
  },
  "language_info": {
   "codemirror_mode": {
    "name": "ipython",
    "version": 3
   },
   "file_extension": ".py",
   "mimetype": "text/x-python",
   "name": "python",
   "nbconvert_exporter": "python",
   "pygments_lexer": "ipython3",
   "version": "3.9.12"
  },
  "orig_nbformat": 4
 },
 "nbformat": 4,
 "nbformat_minor": 2
}
