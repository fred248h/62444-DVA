{
 "cells": [
  {
   "attachments": {},
   "cell_type": "markdown",
   "metadata": {},
   "source": [
    "# Project 2：NASA Data Acquisation, Visualization, and Analysis"
   ]
  },
  {
   "cell_type": "code",
   "execution_count": 1,
   "metadata": {},
   "outputs": [],
   "source": [
    "# The code makes sure that once there is change in the 'src/' folder, the \n",
    "# change will be automatically reloaded in the notebook.\n",
    "%reload_ext autoreload\n",
    "%autoreload 2\n",
    "%aimport src"
   ]
  },
  {
   "attachments": {},
   "cell_type": "markdown",
   "metadata": {},
   "source": [
    "### Task 1: Understanding the NASA API and Data Collection\n",
    "\n",
    "- Register for a NASA API key and understand the different types of data that the API provides.\n",
    "- Run the Python script below to fetch data about **Near Earth Objects (NEOs)** from the NASA API for a years data.\n",
    "- Extract and understand the different pieces of data provided for each NEO."
   ]
  },
  {
   "cell_type": "code",
   "execution_count": 3,
   "metadata": {},
   "outputs": [],
   "source": [
    "import requests\n",
    "import time\n",
    "from datetime import datetime, timedelta\n",
    "from getpass import getpass\n",
    "import json\n",
    "import pandas as pd\n",
    "import numpy as np\n",
    "import math\n",
    "import matplotlib.pyplot as plt\n",
    "\n",
    "# Set your NASA API KEY, this step asks you to enter your API KEY.\n",
    "# (The input box may be float in the top on your editor.)\n",
    "api_key = getpass()"
   ]
  },
  {
   "cell_type": "code",
   "execution_count": 4,
   "metadata": {},
   "outputs": [],
   "source": [
    "# Set the start and end dates for the data you want to fetch\n",
    "start_date = datetime.strptime('2022-01-01', '%Y-%m-%d')\n",
    "end_date = start_date + timedelta(days=365)  # 1 year later\n",
    "\n",
    "# Initialize a list to store the data\n",
    "data = []\n",
    "\n",
    "# Fetch data from the NASA API 7 days at a time\n",
    "# The introduction of the API is on https://api.nasa.gov, under \"Browse APIs\" -> \"Asteroids NeoWs\"\n",
    "# You can look into the example query in the link below to see what the data look like:\n",
    "# https://api.nasa.gov/neo/rest/v1/feed?start_date=2015-09-07&end_date=2015-09-08&api_key=DEMO_KEY\n",
    "current_date = start_date\n",
    "while current_date < end_date:\n",
    "    next_date = min(current_date + timedelta(days=7), end_date)\n",
    "    response = requests.get(f'https://api.nasa.gov/neo/rest/v1/feed?start_date={current_date.strftime(\"%Y-%m-%d\")}&end_date={next_date.strftime(\"%Y-%m-%d\")}&api_key={api_key}')\n",
    "    data.append(response.json())\n",
    "    current_date = next_date\n",
    "    time.sleep(1)  # To avoid hitting the rate limit\n",
    "\n",
    "# Now 'data' contains the NEO data for the 1-year period\n"
   ]
  },
  {
   "cell_type": "code",
   "execution_count": 6,
   "metadata": {},
   "outputs": [
    {
     "output_type": "error",
     "ename": "KeyError",
     "evalue": "'near_earth_objects'",
     "traceback": [
      "\u001b[1;31m---------------------------------------------------------------------------\u001b[0m",
      "\u001b[1;31mKeyError\u001b[0m                                  Traceback (most recent call last)",
      "\u001b[1;32m<ipython-input-6-27bd7ffbd4a5>\u001b[0m in \u001b[0;36m<module>\u001b[1;34m\u001b[0m\n\u001b[0;32m      2\u001b[0m \u001b[0mdates_contained_in_data\u001b[0m \u001b[1;33m=\u001b[0m \u001b[1;33m[\u001b[0m\u001b[1;33m]\u001b[0m\u001b[1;33m\u001b[0m\u001b[1;33m\u001b[0m\u001b[0m\n\u001b[0;32m      3\u001b[0m \u001b[1;32mfor\u001b[0m \u001b[0md\u001b[0m \u001b[1;32min\u001b[0m \u001b[0mdata\u001b[0m\u001b[1;33m:\u001b[0m\u001b[1;33m\u001b[0m\u001b[1;33m\u001b[0m\u001b[0m\n\u001b[1;32m----> 4\u001b[1;33m     \u001b[0mdates_contained_in_data\u001b[0m \u001b[1;33m+=\u001b[0m \u001b[0mlist\u001b[0m\u001b[1;33m(\u001b[0m\u001b[0md\u001b[0m\u001b[1;33m[\u001b[0m\u001b[1;34m'near_earth_objects'\u001b[0m\u001b[1;33m]\u001b[0m\u001b[1;33m.\u001b[0m\u001b[0mkeys\u001b[0m\u001b[1;33m(\u001b[0m\u001b[1;33m)\u001b[0m\u001b[1;33m)\u001b[0m\u001b[1;33m\u001b[0m\u001b[1;33m\u001b[0m\u001b[0m\n\u001b[0m\u001b[0;32m      5\u001b[0m \u001b[1;33m\u001b[0m\u001b[0m\n\u001b[0;32m      6\u001b[0m \u001b[0mprint\u001b[0m\u001b[1;33m(\u001b[0m\u001b[0msorted\u001b[0m\u001b[1;33m(\u001b[0m\u001b[0mdates_contained_in_data\u001b[0m\u001b[1;33m)\u001b[0m\u001b[1;33m)\u001b[0m\u001b[1;33m\u001b[0m\u001b[1;33m\u001b[0m\u001b[0m\n",
      "\u001b[1;31mKeyError\u001b[0m: 'near_earth_objects'"
     ]
    }
   ],
   "source": [
    "# Check the date coverage of your data.\n",
    "dates_contained_in_data = []\n",
    "for d in data:\n",
    "    dates_contained_in_data += list(d['near_earth_objects'].keys())\n",
    "\n",
    "print(sorted(dates_contained_in_data))"
   ]
  },
  {
   "cell_type": "code",
   "execution_count": 37,
   "metadata": {},
   "outputs": [],
   "source": [
    "from src.utils import get_a_random_chunk_property"
   ]
  },
  {
   "cell_type": "code",
   "execution_count": 38,
   "metadata": {},
   "outputs": [
    {
     "name": "stdout",
     "output_type": "stream",
     "text": [
      "date: 2022-10-10\n",
      "NEO name: (2019 SF7)\n",
      "estimated_diameter: {'kilometers': {'estimated_diameter_min': 0.0280902094, 'estimated_diameter_max': 0.0628116177}, 'meters': {'estimated_diameter_min': 28.0902093949, 'estimated_diameter_max': 62.8116177092}, 'miles': {'estimated_diameter_min': 0.0174544415, 'estimated_diameter_max': 0.0390293177}, 'feet': {'estimated_diameter_min': 92.1594825912, 'estimated_diameter_max': 206.074867845}}\n"
     ]
    }
   ],
   "source": [
    "get_a_random_chunk_property(data)"
   ]
  },
  {
   "attachments": {},
   "cell_type": "markdown",
   "metadata": {},
   "source": [
    "For the remaining tasks, you have to organize the data as pd.DataFrame so as to suit the specific need in each task. This part may require a considerably amount of efforts, which is normal in data science and analytics works."
   ]
  },
  {
   "attachments": {},
   "cell_type": "markdown",
   "metadata": {},
   "source": [
    "### Task 2: Data Analysis\n",
    "\n",
    "- Calculate the average size of the NEOs for each day.\n",
    "- Determine the proportion of NEOs that are potentially hazardous.\n",
    "- Find the NEO with the closest approach distance for each day.\n",
    "- Use statistical methods to analyze the data. For example, calculate the mean, median, mode, and standard deviation of the NEO sizes. Determine if the size of a NEO is correlated with whether it is potentially hazardous."
   ]
  },
  {
   "cell_type": "code",
   "execution_count": 98,
   "metadata": {},
   "outputs": [],
   "source": [
    "# Write your code\n",
    "# Sort the data so 2022-01-01 is first\n",
    "dates_contained_in_data = sorted(dates_contained_in_data)\n",
    "\n",
    "#Define a new empyt dataframe\n",
    "df_NEO = pd.DataFrame(index=dates_contained_in_data)\n",
    "df_NEO_dis = pd.DataFrame(index=dates_contained_in_data)\n",
    "df_NEO_haz = pd.DataFrame(index=dates_contained_in_data)\n",
    "\n",
    "#Loop over all days to get data from each NEO\n",
    "index = 0\n",
    "for date in dates_contained_in_data:\n",
    "    # Finding the week number \n",
    "    week = math.floor(index/8)\n",
    "\n",
    "    # Get all data form the day\n",
    "    data_list = data[week][\"near_earth_objects\"][date]\n",
    "    \n",
    "    #Loop over NEO\n",
    "    for i in range(0, len(data_list)):\n",
    "        \n",
    "        # Get size and distance\n",
    "        size = data_list[i]['absolute_magnitude_h']\n",
    "        dis = data_list[i]['close_approach_data'][0]['miss_distance']['kilometers']\n",
    "        hazardous = data_list[i]['is_potentially_hazardous_asteroid']\n",
    "        \n",
    "        # Save to dataframe\n",
    "        df_NEO.loc[date, i]=size\n",
    "        df_NEO_dis.loc[date, i]=dis\n",
    "        df_NEO_haz.loc[date, i]=hazardous\n",
    "\n",
    "    #Update the index\n",
    "    index += 1\n"
   ]
  },
  {
   "cell_type": "code",
   "execution_count": null,
   "metadata": {},
   "outputs": [],
   "source": [
    "#Plot average size of the NEO's\n",
    "\n",
    "df_NEO_avg = df_NEO.mean(axis=1)\n",
    "#df_NEO_avg.head()\n",
    "\n",
    "\n",
    "plt.plot(df_NEO.index, df_NEO_avg)\n",
    "plt.xticks(rotation=30, ha='right', ticks=np.arange(0,418,28))\n",
    "plt.xlabel('Date')\n",
    "plt.ylabel('average size of the NEO')\n",
    "plt.show()"
   ]
  },
  {
   "cell_type": "code",
   "execution_count": null,
   "metadata": {},
   "outputs": [],
   "source": [
    "#Determine the proportion of NEOs that are potentially hazardous.\n",
    "haz = []\n",
    "\n",
    "shape = df_NEO_haz.shape\n",
    "\n",
    "print(shape)\n",
    "\n",
    "for i in range(0,shape[0]):\n",
    "    for j in range(0,shape[1]):\n",
    "        if pd.isna(df_NEO_haz.iloc[i,j]) == True:\n",
    "            break\n",
    "        else:\n",
    "            haz.append(df_NEO_haz.iloc[i,j])\n",
    "\n",
    "\n",
    "import matplotlib.pyplot as plt\n",
    "\n",
    "# Count the occurrences of True and False\n",
    "true_count = haz.count(True)\n",
    "false_count = haz.count(False)\n",
    "\n",
    "# Plotting the distribution\n",
    "labels = ['True', 'False']\n",
    "counts = [true_count, false_count]\n",
    "\n",
    "plt.bar(labels, counts)\n",
    "#plt.xlabel('Values')\n",
    "plt.ylabel('Count')\n",
    "plt.title('Distribution of NEOs that are potentially hazardous')\n",
    "plt.show()\n",
    "\n",
    "\n",
    "print((true_count/(true_count+false_count))*100)"
   ]
  },
  {
   "cell_type": "code",
   "execution_count": null,
   "metadata": {},
   "outputs": [],
   "source": [
    "#NEO with the closest approach distance for each day\n",
    "df_NEO_dis = df_NEO_dis.astype('float')\n",
    "df_NEO_dis_min = df_NEO_dis.min(axis=1)\n",
    "df_NEO_dis.min(axis=1).head()\n",
    "\n",
    "\n",
    "plt.plot(df_NEO_dis.index, df_NEO_dis_min)\n",
    "plt.xticks(rotation=30, ha='right', ticks=np.arange(0,418,28))\n",
    "plt.xlabel('Date')\n",
    "plt.ylabel('Closest approach distance')\n",
    "plt.show()"
   ]
  },
  {
   "cell_type": "code",
   "execution_count": null,
   "metadata": {},
   "outputs": [],
   "source": [
    "#- Use statistical methods to analyze the data. For example, calculate the mean, median, mode, and standard deviation of the NEO sizes. Determine if the size of a NEO is correlated with whether it is potentially hazardous.\n",
    "\n",
    "from scipy import stats\n",
    "\n",
    "# Get all size values\n",
    "values_size = []\n",
    "for i in range(0,df_NEO.shape[0]):\n",
    "    for j in range(0,df_NEO.shape[1]):\n",
    "        if pd.isna(df_NEO.iloc[i,j]) == True:\n",
    "            break\n",
    "        else:\n",
    "            values_size.append(df_NEO.iloc[i,j])\n",
    "\n",
    "\n",
    "stats.describe(values_size)"
   ]
  },
  {
   "attachments": {},
   "cell_type": "markdown",
   "metadata": {},
   "source": [
    "### Task 3: Data Visualization Part A\n",
    "\n",
    "- Create a line plot of the number of NEOs per week.\n",
    "- Create a histogram of the distribution of NEO sizes.\n",
    "- Create a bar plot of the average NEO size per week.\n",
    "- Use a library like Seaborn to create more complex visualizations, such as a box plot of the NEO sizes or a heat map of the number of NEOs per week. **Be creative**!"
   ]
  },
  {
   "cell_type": "code",
   "execution_count": 77,
   "metadata": {},
   "outputs": [],
   "source": [
    "# Write your code\n",
    "# Line plot of the number of NEOs per week.\n",
    "\n",
    "#Define a new empyt dataframe\n",
    "df_N_NEO = pd.DataFrame(columns=['N_NEO_week'],index = list(range(0,53)))\n",
    "\n",
    "#Loop over all days to get data from each NEO\n",
    "index = 0\n",
    "for date in dates_contained_in_data:\n",
    "    # Finding the week number \n",
    "    week = math.floor(index/8)\n",
    "\n",
    "    # Get all data form the day\n",
    "    data_list = data[week][\"near_earth_objects\"][date]\n",
    "    \n",
    "    number_of_NEO = len(data_list)\n",
    "\n",
    "    if pd.isna(df_N_NEO.loc[week, 'N_NEO_week']) == True:\n",
    "        df_N_NEO.loc[week, 'N_NEO_week'] = number_of_NEO\n",
    "    else:\n",
    "        df_N_NEO.loc[week, 'N_NEO_week'] = df_N_NEO.loc[week, 'N_NEO_week'] + number_of_NEO\n",
    "\n",
    "    #Update the index\n",
    "    index += 1\n",
    "\n",
    "\n",
    "plt.plot(df_N_NEO.index, df_N_NEO)\n",
    "plt.xticks(rotation=30, ha='right', ticks=np.arange(0,54,3))\n",
    "plt.xlabel('Week')\n",
    "plt.ylabel('Number of NEOs')\n",
    "plt.show()"
   ]
  },
  {
   "cell_type": "code",
   "execution_count": null,
   "metadata": {},
   "outputs": [],
   "source": [
    "#Histogram of NEO sizes\n",
    "\n",
    "print(np.mean(values_size))\n",
    "plt.hist(values_size)\n",
    "plt.title('Histogram of NEO sizes')\n",
    "plt.xlabel('Values')\n",
    "plt.ylabel('Count')\n",
    "plt.show()"
   ]
  },
  {
   "cell_type": "code",
   "execution_count": null,
   "metadata": {},
   "outputs": [],
   "source": [
    "#Bar plot of the average NEO size per week\n",
    "\n",
    "df_NEO_avg_week = pd.DataFrame(columns=['NEO_avg_week'],index = list(range(0,53)))\n",
    "    \n",
    "for i in range(0,53):\n",
    "    X = df_NEO.iloc[0+i*7:7+i*7,:].to_numpy()\n",
    "    mean = np.nanmean(X)\n",
    "    df_NEO_avg_week.loc[i, 'NEO_avg_week'] = mean\n",
    "\n",
    "\n",
    "plt.plot(df_NEO_avg_week.index, df_NEO_avg_week)\n",
    "plt.xticks(rotation=30, ha='right', ticks=np.arange(0,54,3))\n",
    "plt.xlabel('Week')\n",
    "plt.ylabel('Average NEO size')\n",
    "plt.show()"
   ]
  },
  {
   "attachments": {},
   "cell_type": "markdown",
   "metadata": {},
   "source": [
    "### Task 4: Data Visualization Part B\n",
    "\n",
    "- Create a pie chart of the proportion of hazardous vs non-hazardous NEOs.\n",
    "- Create a scatter plot of the correlation between NEO size and close approach distance.\n",
    "- Customize the appearance of your plots (e.g., colors, labels, titles).\n",
    "- Create interactive visualizations using a library like Plotly. For example, create an interactive scatter plot where you can hover over each point to see more information about the NEO. **Be creative!**"
   ]
  },
  {
   "cell_type": "code",
   "execution_count": 99,
   "metadata": {},
   "outputs": [],
   "source": [
    "# Write your code\n",
    "#  Pie chart of the proportion of hazardous vs non-hazardous NEOs.\n",
    "\n",
    "# Count the occurrences of True and False\n",
    "true_count = haz.count(True)\n",
    "false_count = haz.count(False)\n",
    "\n",
    "# Plotting the distribution\n",
    "labels = ['True', 'False']\n",
    "counts = [true_count, false_count]\n",
    "\n",
    "plt.figure(facecolor='white')\n",
    "plt.pie(counts, labels = labels)\n",
    "plt.title('Distribution of hazardous vs non-hazardous NEOs')\n",
    "plt.show() "
   ]
  },
  {
   "cell_type": "code",
   "execution_count": null,
   "metadata": {},
   "outputs": [],
   "source": [
    "# Scatter plot of the correlation between NEO size and close approach distance.\n",
    "\n",
    "import seaborn\n",
    "\n",
    "values_dis = []\n",
    "for i in range(0,df_NEO_dis.shape[0]):\n",
    "    for j in range(0,df_NEO_dis.shape[1]):\n",
    "        if pd.isna(df_NEO_dis.iloc[i,j]) == True:\n",
    "            break\n",
    "        else:\n",
    "            values_dis.append(df_NEO_dis.iloc[i,j])\n",
    "\n",
    "\n",
    "seaborn.scatterplot(y=values_size, x=values_dis).set(title='Scatter plot of the correlation')"
   ]
  },
  {
   "cell_type": "code",
   "execution_count": null,
   "metadata": {},
   "outputs": [],
   "source": [
    "# Interactive visualizations\n",
    "\n",
    "import plotly.express as px\n",
    "\n",
    "fig = px.line( y=df_NEO_avg, x=df_NEO.index)\n",
    "fig.show()"
   ]
  },
  {
   "attachments": {},
   "cell_type": "markdown",
   "metadata": {},
   "source": [
    "### Task 5: Interpretation of Results\n",
    "\n",
    "- Interpret the results of your data visualization in part A and B. \n",
    "- What insights can you gain about NEOs from your results? Summarizing your findings.\n",
    "- Use your findings to make predictions or recommendations. For example, if you found that larger NEOs are more likely to be potentially hazardous, you could recommend that more resources be allocated to tracking large NEOs. **Be creative!**\n",
    "- Identify, understand, and explain one scientific paper, on a clustering or classification method of relevance that could help Task 5. You don't have to implement it, you just need to justify in this notebook why the method in the scientific paper could contribute in analysis or interpretation of the results."
   ]
  },
  {
   "cell_type": "code",
   "execution_count": null,
   "metadata": {},
   "outputs": [],
   "source": [
    "# Write your code"
   ]
  },
  {
   "attachments": {},
   "cell_type": "markdown",
   "metadata": {},
   "source": [
    "### Task 6: Presentation and Documentation\n",
    "\n",
    "- Make this project as part of your presentation, **using beamer in LaTeX**. \n",
    "- This should include an overview of your work, the results of your data analysis, and the insights you gained from your results."
   ]
  },
  {
   "attachments": {},
   "cell_type": "markdown",
   "metadata": {},
   "source": []
  }
 ],
 "metadata": {
  "kernelspec": {
   "display_name": "Python 3",
   "language": "python",
   "name": "python3"
  },
  "language_info": {
   "codemirror_mode": {
    "name": "ipython",
    "version": 3
   },
   "file_extension": ".py",
   "mimetype": "text/x-python",
   "name": "python",
   "nbconvert_exporter": "python",
   "pygments_lexer": "ipython3",
   "version": "3.8.8-final"
  },
  "orig_nbformat": 4
 },
 "nbformat": 4,
 "nbformat_minor": 2
}